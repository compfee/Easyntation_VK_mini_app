{
  "nbformat": 4,
  "nbformat_minor": 0,
  "metadata": {
    "colab": {
      "provenance": [],
      "toc_visible": true
    },
    "kernelspec": {
      "display_name": "Python 3",
      "name": "python3"
    },
    "widgets": {
      "application/vnd.jupyter.widget-state+json": {
        "c11f3013c091439abe6224c9e302331d": {
          "model_module": "@jupyter-widgets/controls",
          "model_name": "HBoxModel",
          "model_module_version": "1.5.0",
          "state": {
            "_view_name": "HBoxView",
            "_dom_classes": [],
            "_model_name": "HBoxModel",
            "_view_module": "@jupyter-widgets/controls",
            "_model_module_version": "1.5.0",
            "_view_count": null,
            "_view_module_version": "1.5.0",
            "box_style": "",
            "layout": "IPY_MODEL_48b860d370624eeea0b9e9897338fa79",
            "_model_module": "@jupyter-widgets/controls",
            "children": [
              "IPY_MODEL_3108dc5044864101bababed8b50cf084",
              "IPY_MODEL_0599c4ca17bd4c69acab75f8fa3d2116",
              "IPY_MODEL_66a2a0c1ea304d198ac5230034ca7769"
            ]
          }
        },
        "48b860d370624eeea0b9e9897338fa79": {
          "model_module": "@jupyter-widgets/base",
          "model_name": "LayoutModel",
          "model_module_version": "1.2.0",
          "state": {
            "_view_name": "LayoutView",
            "grid_template_rows": null,
            "right": null,
            "justify_content": null,
            "_view_module": "@jupyter-widgets/base",
            "overflow": null,
            "_model_module_version": "1.2.0",
            "_view_count": null,
            "flex_flow": null,
            "width": null,
            "min_width": null,
            "border": null,
            "align_items": null,
            "bottom": null,
            "_model_module": "@jupyter-widgets/base",
            "top": null,
            "grid_column": null,
            "overflow_y": null,
            "overflow_x": null,
            "grid_auto_flow": null,
            "grid_area": null,
            "grid_template_columns": null,
            "flex": null,
            "_model_name": "LayoutModel",
            "justify_items": null,
            "grid_row": null,
            "max_height": null,
            "align_content": null,
            "visibility": null,
            "align_self": null,
            "height": null,
            "min_height": null,
            "padding": null,
            "grid_auto_rows": null,
            "grid_gap": null,
            "max_width": null,
            "order": null,
            "_view_module_version": "1.2.0",
            "grid_template_areas": null,
            "object_position": null,
            "object_fit": null,
            "grid_auto_columns": null,
            "margin": null,
            "display": null,
            "left": null
          }
        },
        "3108dc5044864101bababed8b50cf084": {
          "model_module": "@jupyter-widgets/controls",
          "model_name": "HTMLModel",
          "model_module_version": "1.5.0",
          "state": {
            "_view_name": "HTMLView",
            "style": "IPY_MODEL_4601e45039534444af6205ee8cbc50a7",
            "_dom_classes": [],
            "description": "",
            "_model_name": "HTMLModel",
            "placeholder": "​",
            "_view_module": "@jupyter-widgets/controls",
            "_model_module_version": "1.5.0",
            "value": "",
            "_view_count": null,
            "_view_module_version": "1.5.0",
            "description_tooltip": null,
            "_model_module": "@jupyter-widgets/controls",
            "layout": "IPY_MODEL_b2168108046d47f6878a6c14399aceff"
          }
        },
        "0599c4ca17bd4c69acab75f8fa3d2116": {
          "model_module": "@jupyter-widgets/controls",
          "model_name": "FloatProgressModel",
          "model_module_version": "1.5.0",
          "state": {
            "_view_name": "ProgressView",
            "style": "IPY_MODEL_2491eb7afc9f437989711ae74023a4c0",
            "_dom_classes": [],
            "description": "",
            "_model_name": "FloatProgressModel",
            "bar_style": "danger",
            "max": 1,
            "_view_module": "@jupyter-widgets/controls",
            "_model_module_version": "1.5.0",
            "value": 1,
            "_view_count": null,
            "_view_module_version": "1.5.0",
            "orientation": "horizontal",
            "min": 0,
            "description_tooltip": null,
            "_model_module": "@jupyter-widgets/controls",
            "layout": "IPY_MODEL_ff956bd1372044b09017229f0197156d"
          }
        },
        "66a2a0c1ea304d198ac5230034ca7769": {
          "model_module": "@jupyter-widgets/controls",
          "model_name": "HTMLModel",
          "model_module_version": "1.5.0",
          "state": {
            "_view_name": "HTMLView",
            "style": "IPY_MODEL_9f118f9be9ad4627bb99352d30bd881e",
            "_dom_classes": [],
            "description": "",
            "_model_name": "HTMLModel",
            "placeholder": "​",
            "_view_module": "@jupyter-widgets/controls",
            "_model_module_version": "1.5.0",
            "value": " 2048/? [06:04&lt;00:00, 10.48it/s]",
            "_view_count": null,
            "_view_module_version": "1.5.0",
            "description_tooltip": null,
            "_model_module": "@jupyter-widgets/controls",
            "layout": "IPY_MODEL_5216fa98ce4f421ba18603e58155215c"
          }
        },
        "4601e45039534444af6205ee8cbc50a7": {
          "model_module": "@jupyter-widgets/controls",
          "model_name": "DescriptionStyleModel",
          "model_module_version": "1.5.0",
          "state": {
            "_view_name": "StyleView",
            "_model_name": "DescriptionStyleModel",
            "description_width": "",
            "_view_module": "@jupyter-widgets/base",
            "_model_module_version": "1.5.0",
            "_view_count": null,
            "_view_module_version": "1.2.0",
            "_model_module": "@jupyter-widgets/controls"
          }
        },
        "b2168108046d47f6878a6c14399aceff": {
          "model_module": "@jupyter-widgets/base",
          "model_name": "LayoutModel",
          "model_module_version": "1.2.0",
          "state": {
            "_view_name": "LayoutView",
            "grid_template_rows": null,
            "right": null,
            "justify_content": null,
            "_view_module": "@jupyter-widgets/base",
            "overflow": null,
            "_model_module_version": "1.2.0",
            "_view_count": null,
            "flex_flow": null,
            "width": null,
            "min_width": null,
            "border": null,
            "align_items": null,
            "bottom": null,
            "_model_module": "@jupyter-widgets/base",
            "top": null,
            "grid_column": null,
            "overflow_y": null,
            "overflow_x": null,
            "grid_auto_flow": null,
            "grid_area": null,
            "grid_template_columns": null,
            "flex": null,
            "_model_name": "LayoutModel",
            "justify_items": null,
            "grid_row": null,
            "max_height": null,
            "align_content": null,
            "visibility": null,
            "align_self": null,
            "height": null,
            "min_height": null,
            "padding": null,
            "grid_auto_rows": null,
            "grid_gap": null,
            "max_width": null,
            "order": null,
            "_view_module_version": "1.2.0",
            "grid_template_areas": null,
            "object_position": null,
            "object_fit": null,
            "grid_auto_columns": null,
            "margin": null,
            "display": null,
            "left": null
          }
        },
        "2491eb7afc9f437989711ae74023a4c0": {
          "model_module": "@jupyter-widgets/controls",
          "model_name": "ProgressStyleModel",
          "model_module_version": "1.5.0",
          "state": {
            "_view_name": "StyleView",
            "_model_name": "ProgressStyleModel",
            "description_width": "",
            "_view_module": "@jupyter-widgets/base",
            "_model_module_version": "1.5.0",
            "_view_count": null,
            "_view_module_version": "1.2.0",
            "bar_color": null,
            "_model_module": "@jupyter-widgets/controls"
          }
        },
        "ff956bd1372044b09017229f0197156d": {
          "model_module": "@jupyter-widgets/base",
          "model_name": "LayoutModel",
          "model_module_version": "1.2.0",
          "state": {
            "_view_name": "LayoutView",
            "grid_template_rows": null,
            "right": null,
            "justify_content": null,
            "_view_module": "@jupyter-widgets/base",
            "overflow": null,
            "_model_module_version": "1.2.0",
            "_view_count": null,
            "flex_flow": null,
            "width": "20px",
            "min_width": null,
            "border": null,
            "align_items": null,
            "bottom": null,
            "_model_module": "@jupyter-widgets/base",
            "top": null,
            "grid_column": null,
            "overflow_y": null,
            "overflow_x": null,
            "grid_auto_flow": null,
            "grid_area": null,
            "grid_template_columns": null,
            "flex": null,
            "_model_name": "LayoutModel",
            "justify_items": null,
            "grid_row": null,
            "max_height": null,
            "align_content": null,
            "visibility": null,
            "align_self": null,
            "height": null,
            "min_height": null,
            "padding": null,
            "grid_auto_rows": null,
            "grid_gap": null,
            "max_width": null,
            "order": null,
            "_view_module_version": "1.2.0",
            "grid_template_areas": null,
            "object_position": null,
            "object_fit": null,
            "grid_auto_columns": null,
            "margin": null,
            "display": null,
            "left": null
          }
        },
        "9f118f9be9ad4627bb99352d30bd881e": {
          "model_module": "@jupyter-widgets/controls",
          "model_name": "DescriptionStyleModel",
          "model_module_version": "1.5.0",
          "state": {
            "_view_name": "StyleView",
            "_model_name": "DescriptionStyleModel",
            "description_width": "",
            "_view_module": "@jupyter-widgets/base",
            "_model_module_version": "1.5.0",
            "_view_count": null,
            "_view_module_version": "1.2.0",
            "_model_module": "@jupyter-widgets/controls"
          }
        },
        "5216fa98ce4f421ba18603e58155215c": {
          "model_module": "@jupyter-widgets/base",
          "model_name": "LayoutModel",
          "model_module_version": "1.2.0",
          "state": {
            "_view_name": "LayoutView",
            "grid_template_rows": null,
            "right": null,
            "justify_content": null,
            "_view_module": "@jupyter-widgets/base",
            "overflow": null,
            "_model_module_version": "1.2.0",
            "_view_count": null,
            "flex_flow": null,
            "width": null,
            "min_width": null,
            "border": null,
            "align_items": null,
            "bottom": null,
            "_model_module": "@jupyter-widgets/base",
            "top": null,
            "grid_column": null,
            "overflow_y": null,
            "overflow_x": null,
            "grid_auto_flow": null,
            "grid_area": null,
            "grid_template_columns": null,
            "flex": null,
            "_model_name": "LayoutModel",
            "justify_items": null,
            "grid_row": null,
            "max_height": null,
            "align_content": null,
            "visibility": null,
            "align_self": null,
            "height": null,
            "min_height": null,
            "padding": null,
            "grid_auto_rows": null,
            "grid_gap": null,
            "max_width": null,
            "order": null,
            "_view_module_version": "1.2.0",
            "grid_template_areas": null,
            "object_position": null,
            "object_fit": null,
            "grid_auto_columns": null,
            "margin": null,
            "display": null,
            "left": null
          }
        },
        "800dc2f6a6ff423da6135e0234a0322a": {
          "model_module": "@jupyter-widgets/controls",
          "model_name": "HBoxModel",
          "model_module_version": "1.5.0",
          "state": {
            "_view_name": "HBoxView",
            "_dom_classes": [],
            "_model_name": "HBoxModel",
            "_view_module": "@jupyter-widgets/controls",
            "_model_module_version": "1.5.0",
            "_view_count": null,
            "_view_module_version": "1.5.0",
            "box_style": "",
            "layout": "IPY_MODEL_4585346b80a44c70ad515cf4ad7e0f69",
            "_model_module": "@jupyter-widgets/controls",
            "children": [
              "IPY_MODEL_600d8a5b4dfb4495bdb2aba8caf67821",
              "IPY_MODEL_261d3e0dff21461fa1eb708e0277c79b",
              "IPY_MODEL_10d7e37ff90c4f4ea58c2e9be5021d44"
            ]
          }
        },
        "4585346b80a44c70ad515cf4ad7e0f69": {
          "model_module": "@jupyter-widgets/base",
          "model_name": "LayoutModel",
          "model_module_version": "1.2.0",
          "state": {
            "_view_name": "LayoutView",
            "grid_template_rows": null,
            "right": null,
            "justify_content": null,
            "_view_module": "@jupyter-widgets/base",
            "overflow": null,
            "_model_module_version": "1.2.0",
            "_view_count": null,
            "flex_flow": null,
            "width": null,
            "min_width": null,
            "border": null,
            "align_items": null,
            "bottom": null,
            "_model_module": "@jupyter-widgets/base",
            "top": null,
            "grid_column": null,
            "overflow_y": null,
            "overflow_x": null,
            "grid_auto_flow": null,
            "grid_area": null,
            "grid_template_columns": null,
            "flex": null,
            "_model_name": "LayoutModel",
            "justify_items": null,
            "grid_row": null,
            "max_height": null,
            "align_content": null,
            "visibility": null,
            "align_self": null,
            "height": null,
            "min_height": null,
            "padding": null,
            "grid_auto_rows": null,
            "grid_gap": null,
            "max_width": null,
            "order": null,
            "_view_module_version": "1.2.0",
            "grid_template_areas": null,
            "object_position": null,
            "object_fit": null,
            "grid_auto_columns": null,
            "margin": null,
            "display": null,
            "left": null
          }
        },
        "600d8a5b4dfb4495bdb2aba8caf67821": {
          "model_module": "@jupyter-widgets/controls",
          "model_name": "HTMLModel",
          "model_module_version": "1.5.0",
          "state": {
            "_view_name": "HTMLView",
            "style": "IPY_MODEL_3e62e484d5dc44cd9dfbccd8ea3f0581",
            "_dom_classes": [],
            "description": "",
            "_model_name": "HTMLModel",
            "placeholder": "​",
            "_view_module": "@jupyter-widgets/controls",
            "_model_module_version": "1.5.0",
            "value": "",
            "_view_count": null,
            "_view_module_version": "1.5.0",
            "description_tooltip": null,
            "_model_module": "@jupyter-widgets/controls",
            "layout": "IPY_MODEL_51e730bb679342a0877b4aa4e325202f"
          }
        },
        "261d3e0dff21461fa1eb708e0277c79b": {
          "model_module": "@jupyter-widgets/controls",
          "model_name": "FloatProgressModel",
          "model_module_version": "1.5.0",
          "state": {
            "_view_name": "ProgressView",
            "style": "IPY_MODEL_e5df8e13daf34859aee6572e3adf7087",
            "_dom_classes": [],
            "description": "",
            "_model_name": "FloatProgressModel",
            "bar_style": "danger",
            "max": 1,
            "_view_module": "@jupyter-widgets/controls",
            "_model_module_version": "1.5.0",
            "value": 1,
            "_view_count": null,
            "_view_module_version": "1.5.0",
            "orientation": "horizontal",
            "min": 0,
            "description_tooltip": null,
            "_model_module": "@jupyter-widgets/controls",
            "layout": "IPY_MODEL_119bce097c24441e82985725bb052117"
          }
        },
        "10d7e37ff90c4f4ea58c2e9be5021d44": {
          "model_module": "@jupyter-widgets/controls",
          "model_name": "HTMLModel",
          "model_module_version": "1.5.0",
          "state": {
            "_view_name": "HTMLView",
            "style": "IPY_MODEL_1be47cf43908442c9585191022e558d4",
            "_dom_classes": [],
            "description": "",
            "_model_name": "HTMLModel",
            "placeholder": "​",
            "_view_module": "@jupyter-widgets/controls",
            "_model_module_version": "1.5.0",
            "value": " 256/? [01:06&lt;00:00,  3.41it/s]",
            "_view_count": null,
            "_view_module_version": "1.5.0",
            "description_tooltip": null,
            "_model_module": "@jupyter-widgets/controls",
            "layout": "IPY_MODEL_6b32ef7a5d54459198340e4ba34935cd"
          }
        },
        "3e62e484d5dc44cd9dfbccd8ea3f0581": {
          "model_module": "@jupyter-widgets/controls",
          "model_name": "DescriptionStyleModel",
          "model_module_version": "1.5.0",
          "state": {
            "_view_name": "StyleView",
            "_model_name": "DescriptionStyleModel",
            "description_width": "",
            "_view_module": "@jupyter-widgets/base",
            "_model_module_version": "1.5.0",
            "_view_count": null,
            "_view_module_version": "1.2.0",
            "_model_module": "@jupyter-widgets/controls"
          }
        },
        "51e730bb679342a0877b4aa4e325202f": {
          "model_module": "@jupyter-widgets/base",
          "model_name": "LayoutModel",
          "model_module_version": "1.2.0",
          "state": {
            "_view_name": "LayoutView",
            "grid_template_rows": null,
            "right": null,
            "justify_content": null,
            "_view_module": "@jupyter-widgets/base",
            "overflow": null,
            "_model_module_version": "1.2.0",
            "_view_count": null,
            "flex_flow": null,
            "width": null,
            "min_width": null,
            "border": null,
            "align_items": null,
            "bottom": null,
            "_model_module": "@jupyter-widgets/base",
            "top": null,
            "grid_column": null,
            "overflow_y": null,
            "overflow_x": null,
            "grid_auto_flow": null,
            "grid_area": null,
            "grid_template_columns": null,
            "flex": null,
            "_model_name": "LayoutModel",
            "justify_items": null,
            "grid_row": null,
            "max_height": null,
            "align_content": null,
            "visibility": null,
            "align_self": null,
            "height": null,
            "min_height": null,
            "padding": null,
            "grid_auto_rows": null,
            "grid_gap": null,
            "max_width": null,
            "order": null,
            "_view_module_version": "1.2.0",
            "grid_template_areas": null,
            "object_position": null,
            "object_fit": null,
            "grid_auto_columns": null,
            "margin": null,
            "display": null,
            "left": null
          }
        },
        "e5df8e13daf34859aee6572e3adf7087": {
          "model_module": "@jupyter-widgets/controls",
          "model_name": "ProgressStyleModel",
          "model_module_version": "1.5.0",
          "state": {
            "_view_name": "StyleView",
            "_model_name": "ProgressStyleModel",
            "description_width": "",
            "_view_module": "@jupyter-widgets/base",
            "_model_module_version": "1.5.0",
            "_view_count": null,
            "_view_module_version": "1.2.0",
            "bar_color": null,
            "_model_module": "@jupyter-widgets/controls"
          }
        },
        "119bce097c24441e82985725bb052117": {
          "model_module": "@jupyter-widgets/base",
          "model_name": "LayoutModel",
          "model_module_version": "1.2.0",
          "state": {
            "_view_name": "LayoutView",
            "grid_template_rows": null,
            "right": null,
            "justify_content": null,
            "_view_module": "@jupyter-widgets/base",
            "overflow": null,
            "_model_module_version": "1.2.0",
            "_view_count": null,
            "flex_flow": null,
            "width": "20px",
            "min_width": null,
            "border": null,
            "align_items": null,
            "bottom": null,
            "_model_module": "@jupyter-widgets/base",
            "top": null,
            "grid_column": null,
            "overflow_y": null,
            "overflow_x": null,
            "grid_auto_flow": null,
            "grid_area": null,
            "grid_template_columns": null,
            "flex": null,
            "_model_name": "LayoutModel",
            "justify_items": null,
            "grid_row": null,
            "max_height": null,
            "align_content": null,
            "visibility": null,
            "align_self": null,
            "height": null,
            "min_height": null,
            "padding": null,
            "grid_auto_rows": null,
            "grid_gap": null,
            "max_width": null,
            "order": null,
            "_view_module_version": "1.2.0",
            "grid_template_areas": null,
            "object_position": null,
            "object_fit": null,
            "grid_auto_columns": null,
            "margin": null,
            "display": null,
            "left": null
          }
        },
        "1be47cf43908442c9585191022e558d4": {
          "model_module": "@jupyter-widgets/controls",
          "model_name": "DescriptionStyleModel",
          "model_module_version": "1.5.0",
          "state": {
            "_view_name": "StyleView",
            "_model_name": "DescriptionStyleModel",
            "description_width": "",
            "_view_module": "@jupyter-widgets/base",
            "_model_module_version": "1.5.0",
            "_view_count": null,
            "_view_module_version": "1.2.0",
            "_model_module": "@jupyter-widgets/controls"
          }
        },
        "6b32ef7a5d54459198340e4ba34935cd": {
          "model_module": "@jupyter-widgets/base",
          "model_name": "LayoutModel",
          "model_module_version": "1.2.0",
          "state": {
            "_view_name": "LayoutView",
            "grid_template_rows": null,
            "right": null,
            "justify_content": null,
            "_view_module": "@jupyter-widgets/base",
            "overflow": null,
            "_model_module_version": "1.2.0",
            "_view_count": null,
            "flex_flow": null,
            "width": null,
            "min_width": null,
            "border": null,
            "align_items": null,
            "bottom": null,
            "_model_module": "@jupyter-widgets/base",
            "top": null,
            "grid_column": null,
            "overflow_y": null,
            "overflow_x": null,
            "grid_auto_flow": null,
            "grid_area": null,
            "grid_template_columns": null,
            "flex": null,
            "_model_name": "LayoutModel",
            "justify_items": null,
            "grid_row": null,
            "max_height": null,
            "align_content": null,
            "visibility": null,
            "align_self": null,
            "height": null,
            "min_height": null,
            "padding": null,
            "grid_auto_rows": null,
            "grid_gap": null,
            "max_width": null,
            "order": null,
            "_view_module_version": "1.2.0",
            "grid_template_areas": null,
            "object_position": null,
            "object_fit": null,
            "grid_auto_columns": null,
            "margin": null,
            "display": null,
            "left": null
          }
        },
        "6af7a18207b04c5f8d5d47db34864d09": {
          "model_module": "@jupyter-widgets/controls",
          "model_name": "HBoxModel",
          "model_module_version": "1.5.0",
          "state": {
            "_view_name": "HBoxView",
            "_dom_classes": [],
            "_model_name": "HBoxModel",
            "_view_module": "@jupyter-widgets/controls",
            "_model_module_version": "1.5.0",
            "_view_count": null,
            "_view_module_version": "1.5.0",
            "box_style": "",
            "layout": "IPY_MODEL_4cbc7ccfab7a42c69de58ee46419e8d8",
            "_model_module": "@jupyter-widgets/controls",
            "children": [
              "IPY_MODEL_2682f6e0935443e5a2be0464c6fa1f0a",
              "IPY_MODEL_1ce6d515ccda40aa8f44fa4687f0ad27",
              "IPY_MODEL_c430cbe23746446dbc508a2a53a0716b"
            ]
          }
        },
        "4cbc7ccfab7a42c69de58ee46419e8d8": {
          "model_module": "@jupyter-widgets/base",
          "model_name": "LayoutModel",
          "model_module_version": "1.2.0",
          "state": {
            "_view_name": "LayoutView",
            "grid_template_rows": null,
            "right": null,
            "justify_content": null,
            "_view_module": "@jupyter-widgets/base",
            "overflow": null,
            "_model_module_version": "1.2.0",
            "_view_count": null,
            "flex_flow": null,
            "width": null,
            "min_width": null,
            "border": null,
            "align_items": null,
            "bottom": null,
            "_model_module": "@jupyter-widgets/base",
            "top": null,
            "grid_column": null,
            "overflow_y": null,
            "overflow_x": null,
            "grid_auto_flow": null,
            "grid_area": null,
            "grid_template_columns": null,
            "flex": null,
            "_model_name": "LayoutModel",
            "justify_items": null,
            "grid_row": null,
            "max_height": null,
            "align_content": null,
            "visibility": null,
            "align_self": null,
            "height": null,
            "min_height": null,
            "padding": null,
            "grid_auto_rows": null,
            "grid_gap": null,
            "max_width": null,
            "order": null,
            "_view_module_version": "1.2.0",
            "grid_template_areas": null,
            "object_position": null,
            "object_fit": null,
            "grid_auto_columns": null,
            "margin": null,
            "display": null,
            "left": null
          }
        },
        "2682f6e0935443e5a2be0464c6fa1f0a": {
          "model_module": "@jupyter-widgets/controls",
          "model_name": "HTMLModel",
          "model_module_version": "1.5.0",
          "state": {
            "_view_name": "HTMLView",
            "style": "IPY_MODEL_77efbe423d514924bcbd17cda3d8e71c",
            "_dom_classes": [],
            "description": "",
            "_model_name": "HTMLModel",
            "placeholder": "​",
            "_view_module": "@jupyter-widgets/controls",
            "_model_module_version": "1.5.0",
            "value": "",
            "_view_count": null,
            "_view_module_version": "1.5.0",
            "description_tooltip": null,
            "_model_module": "@jupyter-widgets/controls",
            "layout": "IPY_MODEL_4cb4ad35208743129a25041628f6dca2"
          }
        },
        "1ce6d515ccda40aa8f44fa4687f0ad27": {
          "model_module": "@jupyter-widgets/controls",
          "model_name": "FloatProgressModel",
          "model_module_version": "1.5.0",
          "state": {
            "_view_name": "ProgressView",
            "style": "IPY_MODEL_f7dac43052a9482ea36b71f2cb6ed099",
            "_dom_classes": [],
            "description": "",
            "_model_name": "FloatProgressModel",
            "bar_style": "danger",
            "max": 1,
            "_view_module": "@jupyter-widgets/controls",
            "_model_module_version": "1.5.0",
            "value": 1,
            "_view_count": null,
            "_view_module_version": "1.5.0",
            "orientation": "horizontal",
            "min": 0,
            "description_tooltip": null,
            "_model_module": "@jupyter-widgets/controls",
            "layout": "IPY_MODEL_a799dec7738a4c91802d876180627bf4"
          }
        },
        "c430cbe23746446dbc508a2a53a0716b": {
          "model_module": "@jupyter-widgets/controls",
          "model_name": "HTMLModel",
          "model_module_version": "1.5.0",
          "state": {
            "_view_name": "HTMLView",
            "style": "IPY_MODEL_9b96d14f30b64831a228b98adc3adece",
            "_dom_classes": [],
            "description": "",
            "_model_name": "HTMLModel",
            "placeholder": "​",
            "_view_module": "@jupyter-widgets/controls",
            "_model_module_version": "1.5.0",
            "value": " 256/? [00:56&lt;00:00,  3.39it/s]",
            "_view_count": null,
            "_view_module_version": "1.5.0",
            "description_tooltip": null,
            "_model_module": "@jupyter-widgets/controls",
            "layout": "IPY_MODEL_c5e78c7a959d4829a567ec75b896b8bd"
          }
        },
        "77efbe423d514924bcbd17cda3d8e71c": {
          "model_module": "@jupyter-widgets/controls",
          "model_name": "DescriptionStyleModel",
          "model_module_version": "1.5.0",
          "state": {
            "_view_name": "StyleView",
            "_model_name": "DescriptionStyleModel",
            "description_width": "",
            "_view_module": "@jupyter-widgets/base",
            "_model_module_version": "1.5.0",
            "_view_count": null,
            "_view_module_version": "1.2.0",
            "_model_module": "@jupyter-widgets/controls"
          }
        },
        "4cb4ad35208743129a25041628f6dca2": {
          "model_module": "@jupyter-widgets/base",
          "model_name": "LayoutModel",
          "model_module_version": "1.2.0",
          "state": {
            "_view_name": "LayoutView",
            "grid_template_rows": null,
            "right": null,
            "justify_content": null,
            "_view_module": "@jupyter-widgets/base",
            "overflow": null,
            "_model_module_version": "1.2.0",
            "_view_count": null,
            "flex_flow": null,
            "width": null,
            "min_width": null,
            "border": null,
            "align_items": null,
            "bottom": null,
            "_model_module": "@jupyter-widgets/base",
            "top": null,
            "grid_column": null,
            "overflow_y": null,
            "overflow_x": null,
            "grid_auto_flow": null,
            "grid_area": null,
            "grid_template_columns": null,
            "flex": null,
            "_model_name": "LayoutModel",
            "justify_items": null,
            "grid_row": null,
            "max_height": null,
            "align_content": null,
            "visibility": null,
            "align_self": null,
            "height": null,
            "min_height": null,
            "padding": null,
            "grid_auto_rows": null,
            "grid_gap": null,
            "max_width": null,
            "order": null,
            "_view_module_version": "1.2.0",
            "grid_template_areas": null,
            "object_position": null,
            "object_fit": null,
            "grid_auto_columns": null,
            "margin": null,
            "display": null,
            "left": null
          }
        },
        "f7dac43052a9482ea36b71f2cb6ed099": {
          "model_module": "@jupyter-widgets/controls",
          "model_name": "ProgressStyleModel",
          "model_module_version": "1.5.0",
          "state": {
            "_view_name": "StyleView",
            "_model_name": "ProgressStyleModel",
            "description_width": "",
            "_view_module": "@jupyter-widgets/base",
            "_model_module_version": "1.5.0",
            "_view_count": null,
            "_view_module_version": "1.2.0",
            "bar_color": null,
            "_model_module": "@jupyter-widgets/controls"
          }
        },
        "a799dec7738a4c91802d876180627bf4": {
          "model_module": "@jupyter-widgets/base",
          "model_name": "LayoutModel",
          "model_module_version": "1.2.0",
          "state": {
            "_view_name": "LayoutView",
            "grid_template_rows": null,
            "right": null,
            "justify_content": null,
            "_view_module": "@jupyter-widgets/base",
            "overflow": null,
            "_model_module_version": "1.2.0",
            "_view_count": null,
            "flex_flow": null,
            "width": "20px",
            "min_width": null,
            "border": null,
            "align_items": null,
            "bottom": null,
            "_model_module": "@jupyter-widgets/base",
            "top": null,
            "grid_column": null,
            "overflow_y": null,
            "overflow_x": null,
            "grid_auto_flow": null,
            "grid_area": null,
            "grid_template_columns": null,
            "flex": null,
            "_model_name": "LayoutModel",
            "justify_items": null,
            "grid_row": null,
            "max_height": null,
            "align_content": null,
            "visibility": null,
            "align_self": null,
            "height": null,
            "min_height": null,
            "padding": null,
            "grid_auto_rows": null,
            "grid_gap": null,
            "max_width": null,
            "order": null,
            "_view_module_version": "1.2.0",
            "grid_template_areas": null,
            "object_position": null,
            "object_fit": null,
            "grid_auto_columns": null,
            "margin": null,
            "display": null,
            "left": null
          }
        },
        "9b96d14f30b64831a228b98adc3adece": {
          "model_module": "@jupyter-widgets/controls",
          "model_name": "DescriptionStyleModel",
          "model_module_version": "1.5.0",
          "state": {
            "_view_name": "StyleView",
            "_model_name": "DescriptionStyleModel",
            "description_width": "",
            "_view_module": "@jupyter-widgets/base",
            "_model_module_version": "1.5.0",
            "_view_count": null,
            "_view_module_version": "1.2.0",
            "_model_module": "@jupyter-widgets/controls"
          }
        },
        "c5e78c7a959d4829a567ec75b896b8bd": {
          "model_module": "@jupyter-widgets/base",
          "model_name": "LayoutModel",
          "model_module_version": "1.2.0",
          "state": {
            "_view_name": "LayoutView",
            "grid_template_rows": null,
            "right": null,
            "justify_content": null,
            "_view_module": "@jupyter-widgets/base",
            "overflow": null,
            "_model_module_version": "1.2.0",
            "_view_count": null,
            "flex_flow": null,
            "width": null,
            "min_width": null,
            "border": null,
            "align_items": null,
            "bottom": null,
            "_model_module": "@jupyter-widgets/base",
            "top": null,
            "grid_column": null,
            "overflow_y": null,
            "overflow_x": null,
            "grid_auto_flow": null,
            "grid_area": null,
            "grid_template_columns": null,
            "flex": null,
            "_model_name": "LayoutModel",
            "justify_items": null,
            "grid_row": null,
            "max_height": null,
            "align_content": null,
            "visibility": null,
            "align_self": null,
            "height": null,
            "min_height": null,
            "padding": null,
            "grid_auto_rows": null,
            "grid_gap": null,
            "max_width": null,
            "order": null,
            "_view_module_version": "1.2.0",
            "grid_template_areas": null,
            "object_position": null,
            "object_fit": null,
            "grid_auto_columns": null,
            "margin": null,
            "display": null,
            "left": null
          }
        }
      }
    }
  },
  "cells": [
    {
      "cell_type": "code",
      "metadata": {
        "id": "OqkLTkFRfXvA"
      },
      "source": [
        "!wget -q https://www.dropbox.com/s/43l702z5a5i2w8j/gazeta_train.txt\n",
        "!wget -q https://www.dropbox.com/s/k2egt3sug0hb185/gazeta_val.txt\n",
        "!wget -q https://www.dropbox.com/s/3gki5n5djs9w0v6/gazeta_test.txt"
      ],
      "execution_count": null,
      "outputs": []
    },
    {
      "cell_type": "code",
      "metadata": {
        "id": "SXS1sdYZCluU",
        "colab": {
          "base_uri": "https://localhost:8080/"
        },
        "outputId": "4e6652df-cc92-440a-c0ee-7b015aa178e0"
      },
      "source": [
        "!pip -q install razdel networkx pymorphy2 nltk rouge==0.3.1 summa"
      ],
      "execution_count": null,
      "outputs": [
        {
          "output_type": "stream",
          "name": "stdout",
          "text": [
            "\u001b[?25l\r\u001b[K     |██████                          | 10 kB 21.8 MB/s eta 0:00:01\r\u001b[K     |███████████▉                    | 20 kB 16.6 MB/s eta 0:00:01\r\u001b[K     |█████████████████▊              | 30 kB 9.2 MB/s eta 0:00:01\r\u001b[K     |███████████████████████▋        | 40 kB 8.5 MB/s eta 0:00:01\r\u001b[K     |█████████████████████████████▌  | 51 kB 7.2 MB/s eta 0:00:01\r\u001b[K     |████████████████████████████████| 55 kB 2.5 MB/s \n",
            "\u001b[K     |████████████████████████████████| 54 kB 2.4 MB/s \n",
            "\u001b[K     |████████████████████████████████| 8.2 MB 9.1 MB/s \n",
            "\u001b[?25h  Building wheel for summa (setup.py) ... \u001b[?25l\u001b[?25hdone\n"
          ]
        }
      ]
    },
    {
      "cell_type": "markdown",
      "metadata": {
        "id": "Wa0NfryxbPUP"
      },
      "source": [
        "## Dataset"
      ]
    },
    {
      "cell_type": "code",
      "metadata": {
        "id": "Mz6CZYKQhnd-",
        "colab": {
          "base_uri": "https://localhost:8080/"
        },
        "outputId": "b1b18b6c-880d-483a-d14b-533d999f3a73"
      },
      "source": [
        "!head -n 1 gazeta_train.txt\n",
        "!cat gazeta_train.txt | wc -l\n",
        "!cat gazeta_val.txt | wc -l\n",
        "!cat gazeta_test.txt | wc -l"
      ],
      "execution_count": null,
      "outputs": [
        {
          "output_type": "stream",
          "name": "stdout",
          "text": [
            "{\"url\": \"https://www.gazeta.ru/financial/2011/11/30/3852658.shtml\", \"text\": \"«По итогам 2011 года чистый отток может составить примерно $80 млрд, в следующем году — около $20 млрд. При этом мы ожидаем, что со второго полугодия 2012 года начнется приток капитала», — заявил «Интерфаксу» замминистра экономического развития Андрей Клепач. Официальные прогнозы по выводу капитала из России становятся все пессимистичными: еще летом власти полагали, что из страны уйдет не более $35 млрд, в сентябре Минэкономразвития назвал цифру $50 млрд, в начале ноября Центробанк пересмотрел оценку до $70 млрд. Очередное изменение прогноза было ожидаемо: по расчетам Центробанка , за январь — октябрь чистый отток капитала достиг $64 млрд, причем в последние месяцы он ускорился: в сентябре он составил $14 млрд, в октябре — $13 млрд против среднего ежемесячного оттока в $6—8 млрд в первом полугодии. «После октябрьских данных Минэкономразвития вынуждено было изменить оценку, настаивать на $70 млрд означало ожидать серьезного замедления оттока капитала на непонятно каких причинах», — говорит главный экономист BNP Paribas Юлия Цепляева. «В последние два месяца отток капитала ускорится, на декабрь приходится значительная часть выплат по внешним долгам, что приводит к усилению оттока, особенно если они не рефинансируются новыми кредитами», — соглашается главный экономист ФК «Открытие» Владимир Тихомиров. Прогнозируемый Минэкономразвития отток капитала — один из самых высоких за последние 20 лет. Больше ушло лишь в 2008 году на фоне разрастания финансового кризиса и российско-грузинской войны — $133,7 млрд. В кризисный 2009 год из России утекло $56,1 млрд. Главный фактор ускорения оттока капитала в 2011 году — нестабильность на внешних финансовых рынках и рост опасений относительно второй волны рецессии. «Это реакция на неуверенность, которую генерирует Европа с долговыми проблемами. В случае новой волны глобальной турбулентности Россия — одна из самых уязвимых стран», — говорит Цепляева. Еще одна причина — ослабление рубля. «Привлекательность вложений снижается на фоне того, что рубль перестал укрепляться, а ставки по депозитам достаточно низкие. В результате экспортеры не полностью возвращают экспортную выручку», — говорит Тихомиров. Внутри страны эксперты не видят особых причин для бегства капитала. «Ситуация выглядит достаточно позитивно, очень хорошие макроэкономические результаты за год, особенно на фоне других стран. С политической точки зрения все достаточно понятно и предсказуемо, итог выборов очевиден», — говорит экономист ИК «Тройка Диалог» Антон Струченевский. Тем не менее политический фактор играет роль. «Бизнесу важно не только, кто будет президентом, он ждет ясности с перестановками в правительстве. В наших условиях административный ресурс важнее всего для успешности бизнеса», — говорит Цепляева, добавляя, что отток капитала продолжится до завершения президентских выборов.\", \"title\": \"Прогноз не успевает за оттоком\", \"summary\": \"В 2011 году из России уйдет $80 млрд, считают в Минэкономразвития. Менее месяца назад Центробанк давал оценку $70 млрд, повысив первоначальный прогноз вдвое. Отток капитала из страны усиливается из-за кризиса в Европе, а в декабре российским компаниям выплачивать внешние долги. На движение капитала повлияли и выборы: несмотря на их предсказуемость, бизнес хочет ясности с перестановками в правительстве.\", \"date\": \"2011-11-30 18:33:39\"}\n",
            "52400\n",
            "5265\n",
            "5770\n"
          ]
        }
      ]
    },
    {
      "cell_type": "code",
      "metadata": {
        "id": "5pZ2UGS2DGjH"
      },
      "source": [
        "import json\n",
        "import random\n",
        "\n",
        "def read_gazeta_records(file_name, shuffle=True, sort_by_date=False):\n",
        "    assert shuffle != sort_by_date\n",
        "    records = []\n",
        "    with open(file_name, \"r\") as r:\n",
        "        for line in r:\n",
        "            records.append(json.loads(line))\n",
        "    if sort_by_date:\n",
        "        records.sort(key=lambda x: x[\"date\"])\n",
        "    if shuffle:\n",
        "        random.shuffle\n",
        "    return records"
      ],
      "execution_count": null,
      "outputs": []
    },
    {
      "cell_type": "code",
      "metadata": {
        "id": "GNDp-BunEA91"
      },
      "source": [
        "train_records = read_gazeta_records(\"gazeta_train.txt\")\n",
        "val_records = read_gazeta_records(\"gazeta_val.txt\")\n",
        "test_records = read_gazeta_records(\"gazeta_test.txt\")"
      ],
      "execution_count": null,
      "outputs": []
    },
    {
      "cell_type": "code",
      "metadata": {
        "id": "397gjsNfFBZ_"
      },
      "source": [
        "from nltk.translate.bleu_score import corpus_bleu\n",
        "from rouge import Rouge\n",
        "\n",
        "def calc_scores(references, predictions, metric=\"all\"):\n",
        "    print(\"Count:\", len(predictions))\n",
        "    print(\"Ref:\", references[-1])\n",
        "    print(\"Hyp:\", predictions[-1])\n",
        "\n",
        "    if metric in (\"bleu\", \"all\"):\n",
        "        print(\"BLEU: \", corpus_bleu([[r] for r in references], predictions))\n",
        "    if metric in (\"rouge\", \"all\"):\n",
        "        rouge = Rouge()\n",
        "        scores = rouge.get_scores(predictions, references, avg=True)\n",
        "        print(\"ROUGE: \", scores)"
      ],
      "execution_count": null,
      "outputs": []
    },
    {
      "cell_type": "markdown",
      "metadata": {
        "id": "aaJKNsUGFBaA"
      },
      "source": [
        "## Extractive RNN"
      ]
    },
    {
      "cell_type": "markdown",
      "metadata": {
        "id": "l3izlm8HFBaC"
      },
      "source": [
        "### BPE"
      ]
    },
    {
      "cell_type": "code",
      "metadata": {
        "id": "2DMVtloWFBaC",
        "colab": {
          "base_uri": "https://localhost:8080/"
        },
        "outputId": "a6f459ab-2858-4a07-b7ef-1e2147f709c8"
      },
      "source": [
        "!pip install youtokentome"
      ],
      "execution_count": null,
      "outputs": [
        {
          "output_type": "stream",
          "name": "stdout",
          "text": [
            "Collecting youtokentome\n",
            "  Downloading youtokentome-1.0.6-cp37-cp37m-manylinux2010_x86_64.whl (1.7 MB)\n",
            "\u001b[?25l\r\u001b[K     |▏                               | 10 kB 22.9 MB/s eta 0:00:01\r\u001b[K     |▍                               | 20 kB 10.0 MB/s eta 0:00:01\r\u001b[K     |▋                               | 30 kB 8.6 MB/s eta 0:00:01\r\u001b[K     |▊                               | 40 kB 7.9 MB/s eta 0:00:01\r\u001b[K     |█                               | 51 kB 4.3 MB/s eta 0:00:01\r\u001b[K     |█▏                              | 61 kB 4.5 MB/s eta 0:00:01\r\u001b[K     |█▍                              | 71 kB 4.5 MB/s eta 0:00:01\r\u001b[K     |█▌                              | 81 kB 5.1 MB/s eta 0:00:01\r\u001b[K     |█▊                              | 92 kB 5.2 MB/s eta 0:00:01\r\u001b[K     |██                              | 102 kB 4.2 MB/s eta 0:00:01\r\u001b[K     |██                              | 112 kB 4.2 MB/s eta 0:00:01\r\u001b[K     |██▎                             | 122 kB 4.2 MB/s eta 0:00:01\r\u001b[K     |██▌                             | 133 kB 4.2 MB/s eta 0:00:01\r\u001b[K     |██▊                             | 143 kB 4.2 MB/s eta 0:00:01\r\u001b[K     |██▉                             | 153 kB 4.2 MB/s eta 0:00:01\r\u001b[K     |███                             | 163 kB 4.2 MB/s eta 0:00:01\r\u001b[K     |███▎                            | 174 kB 4.2 MB/s eta 0:00:01\r\u001b[K     |███▌                            | 184 kB 4.2 MB/s eta 0:00:01\r\u001b[K     |███▋                            | 194 kB 4.2 MB/s eta 0:00:01\r\u001b[K     |███▉                            | 204 kB 4.2 MB/s eta 0:00:01\r\u001b[K     |████                            | 215 kB 4.2 MB/s eta 0:00:01\r\u001b[K     |████▏                           | 225 kB 4.2 MB/s eta 0:00:01\r\u001b[K     |████▍                           | 235 kB 4.2 MB/s eta 0:00:01\r\u001b[K     |████▋                           | 245 kB 4.2 MB/s eta 0:00:01\r\u001b[K     |████▉                           | 256 kB 4.2 MB/s eta 0:00:01\r\u001b[K     |█████                           | 266 kB 4.2 MB/s eta 0:00:01\r\u001b[K     |█████▏                          | 276 kB 4.2 MB/s eta 0:00:01\r\u001b[K     |█████▍                          | 286 kB 4.2 MB/s eta 0:00:01\r\u001b[K     |█████▌                          | 296 kB 4.2 MB/s eta 0:00:01\r\u001b[K     |█████▊                          | 307 kB 4.2 MB/s eta 0:00:01\r\u001b[K     |██████                          | 317 kB 4.2 MB/s eta 0:00:01\r\u001b[K     |██████▏                         | 327 kB 4.2 MB/s eta 0:00:01\r\u001b[K     |██████▎                         | 337 kB 4.2 MB/s eta 0:00:01\r\u001b[K     |██████▌                         | 348 kB 4.2 MB/s eta 0:00:01\r\u001b[K     |██████▊                         | 358 kB 4.2 MB/s eta 0:00:01\r\u001b[K     |███████                         | 368 kB 4.2 MB/s eta 0:00:01\r\u001b[K     |███████                         | 378 kB 4.2 MB/s eta 0:00:01\r\u001b[K     |███████▎                        | 389 kB 4.2 MB/s eta 0:00:01\r\u001b[K     |███████▌                        | 399 kB 4.2 MB/s eta 0:00:01\r\u001b[K     |███████▋                        | 409 kB 4.2 MB/s eta 0:00:01\r\u001b[K     |███████▉                        | 419 kB 4.2 MB/s eta 0:00:01\r\u001b[K     |████████                        | 430 kB 4.2 MB/s eta 0:00:01\r\u001b[K     |████████▎                       | 440 kB 4.2 MB/s eta 0:00:01\r\u001b[K     |████████▍                       | 450 kB 4.2 MB/s eta 0:00:01\r\u001b[K     |████████▋                       | 460 kB 4.2 MB/s eta 0:00:01\r\u001b[K     |████████▉                       | 471 kB 4.2 MB/s eta 0:00:01\r\u001b[K     |█████████                       | 481 kB 4.2 MB/s eta 0:00:01\r\u001b[K     |█████████▏                      | 491 kB 4.2 MB/s eta 0:00:01\r\u001b[K     |█████████▍                      | 501 kB 4.2 MB/s eta 0:00:01\r\u001b[K     |█████████▋                      | 512 kB 4.2 MB/s eta 0:00:01\r\u001b[K     |█████████▊                      | 522 kB 4.2 MB/s eta 0:00:01\r\u001b[K     |██████████                      | 532 kB 4.2 MB/s eta 0:00:01\r\u001b[K     |██████████▏                     | 542 kB 4.2 MB/s eta 0:00:01\r\u001b[K     |██████████▍                     | 552 kB 4.2 MB/s eta 0:00:01\r\u001b[K     |██████████▌                     | 563 kB 4.2 MB/s eta 0:00:01\r\u001b[K     |██████████▊                     | 573 kB 4.2 MB/s eta 0:00:01\r\u001b[K     |███████████                     | 583 kB 4.2 MB/s eta 0:00:01\r\u001b[K     |███████████                     | 593 kB 4.2 MB/s eta 0:00:01\r\u001b[K     |███████████▎                    | 604 kB 4.2 MB/s eta 0:00:01\r\u001b[K     |███████████▌                    | 614 kB 4.2 MB/s eta 0:00:01\r\u001b[K     |███████████▊                    | 624 kB 4.2 MB/s eta 0:00:01\r\u001b[K     |███████████▉                    | 634 kB 4.2 MB/s eta 0:00:01\r\u001b[K     |████████████                    | 645 kB 4.2 MB/s eta 0:00:01\r\u001b[K     |████████████▎                   | 655 kB 4.2 MB/s eta 0:00:01\r\u001b[K     |████████████▍                   | 665 kB 4.2 MB/s eta 0:00:01\r\u001b[K     |████████████▋                   | 675 kB 4.2 MB/s eta 0:00:01\r\u001b[K     |████████████▉                   | 686 kB 4.2 MB/s eta 0:00:01\r\u001b[K     |█████████████                   | 696 kB 4.2 MB/s eta 0:00:01\r\u001b[K     |█████████████▏                  | 706 kB 4.2 MB/s eta 0:00:01\r\u001b[K     |█████████████▍                  | 716 kB 4.2 MB/s eta 0:00:01\r\u001b[K     |█████████████▋                  | 727 kB 4.2 MB/s eta 0:00:01\r\u001b[K     |█████████████▉                  | 737 kB 4.2 MB/s eta 0:00:01\r\u001b[K     |██████████████                  | 747 kB 4.2 MB/s eta 0:00:01\r\u001b[K     |██████████████▏                 | 757 kB 4.2 MB/s eta 0:00:01\r\u001b[K     |██████████████▍                 | 768 kB 4.2 MB/s eta 0:00:01\r\u001b[K     |██████████████▌                 | 778 kB 4.2 MB/s eta 0:00:01\r\u001b[K     |██████████████▊                 | 788 kB 4.2 MB/s eta 0:00:01\r\u001b[K     |███████████████                 | 798 kB 4.2 MB/s eta 0:00:01\r\u001b[K     |███████████████▏                | 808 kB 4.2 MB/s eta 0:00:01\r\u001b[K     |███████████████▎                | 819 kB 4.2 MB/s eta 0:00:01\r\u001b[K     |███████████████▌                | 829 kB 4.2 MB/s eta 0:00:01\r\u001b[K     |███████████████▊                | 839 kB 4.2 MB/s eta 0:00:01\r\u001b[K     |███████████████▉                | 849 kB 4.2 MB/s eta 0:00:01\r\u001b[K     |████████████████                | 860 kB 4.2 MB/s eta 0:00:01\r\u001b[K     |████████████████▎               | 870 kB 4.2 MB/s eta 0:00:01\r\u001b[K     |████████████████▌               | 880 kB 4.2 MB/s eta 0:00:01\r\u001b[K     |████████████████▋               | 890 kB 4.2 MB/s eta 0:00:01\r\u001b[K     |████████████████▉               | 901 kB 4.2 MB/s eta 0:00:01\r\u001b[K     |█████████████████               | 911 kB 4.2 MB/s eta 0:00:01\r\u001b[K     |█████████████████▎              | 921 kB 4.2 MB/s eta 0:00:01\r\u001b[K     |█████████████████▍              | 931 kB 4.2 MB/s eta 0:00:01\r\u001b[K     |█████████████████▋              | 942 kB 4.2 MB/s eta 0:00:01\r\u001b[K     |█████████████████▉              | 952 kB 4.2 MB/s eta 0:00:01\r\u001b[K     |██████████████████              | 962 kB 4.2 MB/s eta 0:00:01\r\u001b[K     |██████████████████▏             | 972 kB 4.2 MB/s eta 0:00:01\r\u001b[K     |██████████████████▍             | 983 kB 4.2 MB/s eta 0:00:01\r\u001b[K     |██████████████████▋             | 993 kB 4.2 MB/s eta 0:00:01\r\u001b[K     |██████████████████▊             | 1.0 MB 4.2 MB/s eta 0:00:01\r\u001b[K     |███████████████████             | 1.0 MB 4.2 MB/s eta 0:00:01\r\u001b[K     |███████████████████▏            | 1.0 MB 4.2 MB/s eta 0:00:01\r\u001b[K     |███████████████████▎            | 1.0 MB 4.2 MB/s eta 0:00:01\r\u001b[K     |███████████████████▌            | 1.0 MB 4.2 MB/s eta 0:00:01\r\u001b[K     |███████████████████▊            | 1.1 MB 4.2 MB/s eta 0:00:01\r\u001b[K     |████████████████████            | 1.1 MB 4.2 MB/s eta 0:00:01\r\u001b[K     |████████████████████            | 1.1 MB 4.2 MB/s eta 0:00:01\r\u001b[K     |████████████████████▎           | 1.1 MB 4.2 MB/s eta 0:00:01\r\u001b[K     |████████████████████▌           | 1.1 MB 4.2 MB/s eta 0:00:01\r\u001b[K     |████████████████████▊           | 1.1 MB 4.2 MB/s eta 0:00:01\r\u001b[K     |████████████████████▉           | 1.1 MB 4.2 MB/s eta 0:00:01\r\u001b[K     |█████████████████████           | 1.1 MB 4.2 MB/s eta 0:00:01\r\u001b[K     |█████████████████████▎          | 1.1 MB 4.2 MB/s eta 0:00:01\r\u001b[K     |█████████████████████▍          | 1.1 MB 4.2 MB/s eta 0:00:01\r\u001b[K     |█████████████████████▋          | 1.2 MB 4.2 MB/s eta 0:00:01\r\u001b[K     |█████████████████████▉          | 1.2 MB 4.2 MB/s eta 0:00:01\r\u001b[K     |██████████████████████          | 1.2 MB 4.2 MB/s eta 0:00:01\r\u001b[K     |██████████████████████▏         | 1.2 MB 4.2 MB/s eta 0:00:01\r\u001b[K     |██████████████████████▍         | 1.2 MB 4.2 MB/s eta 0:00:01\r\u001b[K     |██████████████████████▋         | 1.2 MB 4.2 MB/s eta 0:00:01\r\u001b[K     |██████████████████████▊         | 1.2 MB 4.2 MB/s eta 0:00:01\r\u001b[K     |███████████████████████         | 1.2 MB 4.2 MB/s eta 0:00:01\r\u001b[K     |███████████████████████▏        | 1.2 MB 4.2 MB/s eta 0:00:01\r\u001b[K     |███████████████████████▍        | 1.2 MB 4.2 MB/s eta 0:00:01\r\u001b[K     |███████████████████████▌        | 1.3 MB 4.2 MB/s eta 0:00:01\r\u001b[K     |███████████████████████▊        | 1.3 MB 4.2 MB/s eta 0:00:01\r\u001b[K     |████████████████████████        | 1.3 MB 4.2 MB/s eta 0:00:01\r\u001b[K     |████████████████████████▏       | 1.3 MB 4.2 MB/s eta 0:00:01\r\u001b[K     |████████████████████████▎       | 1.3 MB 4.2 MB/s eta 0:00:01\r\u001b[K     |████████████████████████▌       | 1.3 MB 4.2 MB/s eta 0:00:01\r\u001b[K     |████████████████████████▊       | 1.3 MB 4.2 MB/s eta 0:00:01\r\u001b[K     |████████████████████████▉       | 1.3 MB 4.2 MB/s eta 0:00:01\r\u001b[K     |█████████████████████████       | 1.3 MB 4.2 MB/s eta 0:00:01\r\u001b[K     |█████████████████████████▎      | 1.4 MB 4.2 MB/s eta 0:00:01\r\u001b[K     |█████████████████████████▌      | 1.4 MB 4.2 MB/s eta 0:00:01\r\u001b[K     |█████████████████████████▋      | 1.4 MB 4.2 MB/s eta 0:00:01\r\u001b[K     |█████████████████████████▉      | 1.4 MB 4.2 MB/s eta 0:00:01\r\u001b[K     |██████████████████████████      | 1.4 MB 4.2 MB/s eta 0:00:01\r\u001b[K     |██████████████████████████▏     | 1.4 MB 4.2 MB/s eta 0:00:01\r\u001b[K     |██████████████████████████▍     | 1.4 MB 4.2 MB/s eta 0:00:01\r\u001b[K     |██████████████████████████▋     | 1.4 MB 4.2 MB/s eta 0:00:01\r\u001b[K     |██████████████████████████▉     | 1.4 MB 4.2 MB/s eta 0:00:01\r\u001b[K     |███████████████████████████     | 1.4 MB 4.2 MB/s eta 0:00:01\r\u001b[K     |███████████████████████████▏    | 1.5 MB 4.2 MB/s eta 0:00:01\r\u001b[K     |███████████████████████████▍    | 1.5 MB 4.2 MB/s eta 0:00:01\r\u001b[K     |███████████████████████████▋    | 1.5 MB 4.2 MB/s eta 0:00:01\r\u001b[K     |███████████████████████████▊    | 1.5 MB 4.2 MB/s eta 0:00:01\r\u001b[K     |████████████████████████████    | 1.5 MB 4.2 MB/s eta 0:00:01\r\u001b[K     |████████████████████████████▏   | 1.5 MB 4.2 MB/s eta 0:00:01\r\u001b[K     |████████████████████████████▎   | 1.5 MB 4.2 MB/s eta 0:00:01\r\u001b[K     |████████████████████████████▌   | 1.5 MB 4.2 MB/s eta 0:00:01\r\u001b[K     |████████████████████████████▊   | 1.5 MB 4.2 MB/s eta 0:00:01\r\u001b[K     |█████████████████████████████   | 1.5 MB 4.2 MB/s eta 0:00:01\r\u001b[K     |█████████████████████████████   | 1.6 MB 4.2 MB/s eta 0:00:01\r\u001b[K     |█████████████████████████████▎  | 1.6 MB 4.2 MB/s eta 0:00:01\r\u001b[K     |█████████████████████████████▌  | 1.6 MB 4.2 MB/s eta 0:00:01\r\u001b[K     |█████████████████████████████▋  | 1.6 MB 4.2 MB/s eta 0:00:01\r\u001b[K     |█████████████████████████████▉  | 1.6 MB 4.2 MB/s eta 0:00:01\r\u001b[K     |██████████████████████████████  | 1.6 MB 4.2 MB/s eta 0:00:01\r\u001b[K     |██████████████████████████████▎ | 1.6 MB 4.2 MB/s eta 0:00:01\r\u001b[K     |██████████████████████████████▍ | 1.6 MB 4.2 MB/s eta 0:00:01\r\u001b[K     |██████████████████████████████▋ | 1.6 MB 4.2 MB/s eta 0:00:01\r\u001b[K     |██████████████████████████████▉ | 1.6 MB 4.2 MB/s eta 0:00:01\r\u001b[K     |███████████████████████████████ | 1.7 MB 4.2 MB/s eta 0:00:01\r\u001b[K     |███████████████████████████████▏| 1.7 MB 4.2 MB/s eta 0:00:01\r\u001b[K     |███████████████████████████████▍| 1.7 MB 4.2 MB/s eta 0:00:01\r\u001b[K     |███████████████████████████████▋| 1.7 MB 4.2 MB/s eta 0:00:01\r\u001b[K     |███████████████████████████████▊| 1.7 MB 4.2 MB/s eta 0:00:01\r\u001b[K     |████████████████████████████████| 1.7 MB 4.2 MB/s eta 0:00:01\r\u001b[K     |████████████████████████████████| 1.7 MB 4.2 MB/s \n",
            "\u001b[?25hRequirement already satisfied: Click>=7.0 in /usr/local/lib/python3.7/dist-packages (from youtokentome) (7.1.2)\n",
            "Installing collected packages: youtokentome\n",
            "Successfully installed youtokentome-1.0.6\n"
          ]
        }
      ]
    },
    {
      "cell_type": "code",
      "metadata": {
        "id": "Yg9T6q0wFBaF"
      },
      "source": [
        "import youtokentome as yttm\n",
        "\n",
        "def train_bpe(records, model_path, model_type=\"bpe\", vocab_size=10000, lower=True):\n",
        "    temp_file_name = \"temp.txt\"\n",
        "    with open(temp_file_name, \"w\") as temp:\n",
        "        for record in records:\n",
        "            text, summary = record['text'], record['summary']\n",
        "            if lower:\n",
        "                summary = summary.lower()\n",
        "                text = text.lower()\n",
        "            if not text or not summary:\n",
        "                continue\n",
        "            temp.write(text + \"\\n\")\n",
        "            temp.write(summary + \"\\n\")\n",
        "    yttm.BPE.train(data=temp_file_name, vocab_size=vocab_size, model=model_path)\n",
        "\n",
        "train_bpe(train_records, \"BPE_model.bin\")"
      ],
      "execution_count": null,
      "outputs": []
    },
    {
      "cell_type": "code",
      "metadata": {
        "id": "MueXtatmFBaG"
      },
      "source": [
        "bpe_processor = yttm.BPE('BPE_model.bin')\n",
        "vocabulary = bpe_processor.vocab()"
      ],
      "execution_count": null,
      "outputs": []
    },
    {
      "cell_type": "code",
      "metadata": {
        "id": "Fp23tuPbFBaH",
        "colab": {
          "base_uri": "https://localhost:8080/",
          "height": 113,
          "referenced_widgets": [
            "c11f3013c091439abe6224c9e302331d",
            "48b860d370624eeea0b9e9897338fa79",
            "3108dc5044864101bababed8b50cf084",
            "0599c4ca17bd4c69acab75f8fa3d2116",
            "66a2a0c1ea304d198ac5230034ca7769",
            "4601e45039534444af6205ee8cbc50a7",
            "b2168108046d47f6878a6c14399aceff",
            "2491eb7afc9f437989711ae74023a4c0",
            "ff956bd1372044b09017229f0197156d",
            "9f118f9be9ad4627bb99352d30bd881e",
            "5216fa98ce4f421ba18603e58155215c",
            "800dc2f6a6ff423da6135e0234a0322a",
            "4585346b80a44c70ad515cf4ad7e0f69",
            "600d8a5b4dfb4495bdb2aba8caf67821",
            "261d3e0dff21461fa1eb708e0277c79b",
            "10d7e37ff90c4f4ea58c2e9be5021d44",
            "3e62e484d5dc44cd9dfbccd8ea3f0581",
            "51e730bb679342a0877b4aa4e325202f",
            "e5df8e13daf34859aee6572e3adf7087",
            "119bce097c24441e82985725bb052117",
            "1be47cf43908442c9585191022e558d4",
            "6b32ef7a5d54459198340e4ba34935cd",
            "6af7a18207b04c5f8d5d47db34864d09",
            "4cbc7ccfab7a42c69de58ee46419e8d8",
            "2682f6e0935443e5a2be0464c6fa1f0a",
            "1ce6d515ccda40aa8f44fa4687f0ad27",
            "c430cbe23746446dbc508a2a53a0716b",
            "77efbe423d514924bcbd17cda3d8e71c",
            "4cb4ad35208743129a25041628f6dca2",
            "f7dac43052a9482ea36b71f2cb6ed099",
            "a799dec7738a4c91802d876180627bf4",
            "9b96d14f30b64831a228b98adc3adece",
            "c5e78c7a959d4829a567ec75b896b8bd"
          ]
        },
        "outputId": "64ab4545-ea06-4abb-ba6d-1714b16e7691"
      },
      "source": [
        "from rouge import Rouge\n",
        "import razdel\n",
        "from tqdm.notebook import tqdm\n",
        "\n",
        "import copy\n",
        "\n",
        "def build_oracle_summary_greedy(text, gold_summary, calc_score, lower=True, max_sentences=30):\n",
        "    '''\n",
        "    Жадное построение oracle summary\n",
        "    '''\n",
        "    gold_summary = gold_summary.lower() if lower else gold_summary\n",
        "    # Делим текст на предложения\n",
        "    sentences = [sentence.text.lower() if lower else sentence.text for sentence in razdel.sentenize(text)][:max_sentences]\n",
        "    n_sentences = len(sentences)\n",
        "    oracle_summary_sentences = set()\n",
        "\n",
        "    score = -1.0\n",
        "    summaries = []\n",
        "    for _ in range(n_sentences):\n",
        "        for i in range(n_sentences):\n",
        "            if i in oracle_summary_sentences:\n",
        "                continue\n",
        "            current_summary_sentences = copy.copy(oracle_summary_sentences)\n",
        "            # Добавляем какое-то предложения к уже существующему summary\n",
        "            current_summary_sentences.add(i)\n",
        "            current_summary = \" \".join([sentences[index] for index in sorted(list(current_summary_sentences))])\n",
        "            # Считаем метрики\n",
        "            current_score = calc_score(current_summary, gold_summary)\n",
        "            summaries.append((current_score, current_summary_sentences))\n",
        "        # Если получилось улучшить метрики с добавлением какого-либо предложения, то пробуем добавить ещё\n",
        "        # Иначе на этом заканчиваем\n",
        "        best_summary_score, best_summary_sentences = max(summaries)\n",
        "        if best_summary_score <= score:\n",
        "            break\n",
        "        oracle_summary_sentences = best_summary_sentences\n",
        "        score = best_summary_score\n",
        "    oracle_summary = \" \".join([sentences[index] for index in sorted(list(oracle_summary_sentences))])\n",
        "    return oracle_summary, oracle_summary_sentences\n",
        "\n",
        "def calc_single_score(pred_summary, gold_summary, rouge):\n",
        "    return rouge.get_scores([pred_summary], [gold_summary], avg=True)['rouge-2']['f']\n",
        "\n",
        "def add_oracle_summary_to_records(records, max_sentences=30, lower=True, nrows=1000):\n",
        "    rouge = Rouge()\n",
        "    for i, record in tqdm(enumerate(records)):\n",
        "        if i >= nrows:\n",
        "            break\n",
        "        text = record[\"text\"]\n",
        "        summary = record[\"summary\"]\n",
        "\n",
        "        summary = summary.lower() if lower else summary\n",
        "        sentences = [sentence.text.lower() if lower else sentence.text for sentence in razdel.sentenize(text)][:max_sentences]\n",
        "        oracle_summary, sentences_indicies = build_oracle_summary_greedy(text, summary, calc_score=lambda x, y: calc_single_score(x, y, rouge),\n",
        "                                                                         lower=lower, max_sentences=max_sentences)\n",
        "        record[\"sentences\"] = sentences\n",
        "        record[\"oracle_sentences\"] = list(sentences_indicies)\n",
        "        record[\"oracle_summary\"] = oracle_summary\n",
        "\n",
        "    return records[:nrows]\n",
        "\n",
        "ext_train_records = add_oracle_summary_to_records(train_records, nrows=2048)\n",
        "ext_val_records = add_oracle_summary_to_records(val_records, nrows=256)\n",
        "ext_test_records = add_oracle_summary_to_records(test_records, nrows=256)"
      ],
      "execution_count": null,
      "outputs": [
        {
          "output_type": "display_data",
          "data": {
            "application/vnd.jupyter.widget-view+json": {
              "model_id": "c11f3013c091439abe6224c9e302331d",
              "version_minor": 0,
              "version_major": 2
            },
            "text/plain": [
              "0it [00:00, ?it/s]"
            ]
          },
          "metadata": {}
        },
        {
          "output_type": "display_data",
          "data": {
            "application/vnd.jupyter.widget-view+json": {
              "model_id": "800dc2f6a6ff423da6135e0234a0322a",
              "version_minor": 0,
              "version_major": 2
            },
            "text/plain": [
              "0it [00:00, ?it/s]"
            ]
          },
          "metadata": {}
        },
        {
          "output_type": "display_data",
          "data": {
            "application/vnd.jupyter.widget-view+json": {
              "model_id": "6af7a18207b04c5f8d5d47db34864d09",
              "version_minor": 0,
              "version_major": 2
            },
            "text/plain": [
              "0it [00:00, ?it/s]"
            ]
          },
          "metadata": {}
        }
      ]
    },
    {
      "cell_type": "code",
      "metadata": {
        "id": "YATQKCuqHPo3",
        "colab": {
          "base_uri": "https://localhost:8080/"
        },
        "outputId": "be125e12-699d-4535-9287-da5bf79625b0"
      },
      "source": [
        "import torch\n",
        "device = torch.device('cuda' if torch.cuda.is_available() else 'cpu')\n",
        "device"
      ],
      "execution_count": null,
      "outputs": [
        {
          "output_type": "execute_result",
          "data": {
            "text/plain": [
              "device(type='cpu')"
            ]
          },
          "metadata": {},
          "execution_count": 11
        }
      ]
    },
    {
      "cell_type": "code",
      "metadata": {
        "id": "MNyxstTChK3C"
      },
      "source": [
        "import random\n",
        "import math\n",
        "import razdel\n",
        "import torch\n",
        "import numpy as np\n",
        "from rouge import Rouge\n",
        "\n",
        "\n",
        "class BatchIterator():\n",
        "    def __init__(self, records, vocabulary, batch_size, bpe_processor, shuffle=True, lower=True, max_sentences=30, max_sentence_length=50, device=torch.device('cpu')):\n",
        "        self.records = records\n",
        "        self.num_samples = len(records)\n",
        "        self.batch_size = batch_size\n",
        "        self.bpe_processor = bpe_processor\n",
        "        self.shuffle = shuffle\n",
        "        self.batches_count = int(math.ceil(self.num_samples / batch_size))\n",
        "        self.lower = lower\n",
        "        self.rouge = Rouge()\n",
        "        self.vocabulary = vocabulary\n",
        "        self.max_sentences = max_sentences\n",
        "        self.max_sentence_length = max_sentence_length\n",
        "        self.device = device\n",
        "\n",
        "    def __len__(self):\n",
        "        return self.batches_count\n",
        "\n",
        "    def __iter__(self):\n",
        "        indices = np.arange(self.num_samples)\n",
        "        if self.shuffle:\n",
        "            np.random.shuffle(indices)\n",
        "\n",
        "        for start in range(0, self.num_samples, self.batch_size):\n",
        "            end = min(start + self.batch_size, self.num_samples)\n",
        "            batch_indices = indices[start:end]\n",
        "\n",
        "            batch_inputs = []\n",
        "            batch_outputs = []\n",
        "            max_sentence_length = 0\n",
        "            max_sentences = 0\n",
        "            batch_records = []\n",
        "\n",
        "            for data_ind in batch_indices:\n",
        "\n",
        "                record = self.records[data_ind]\n",
        "                batch_records.append(record)\n",
        "                text = record[\"text\"]\n",
        "                summary = record[\"summary\"]\n",
        "                summary = summary.lower() if self.lower else summary\n",
        "\n",
        "                if \"sentences\" not in record:\n",
        "                    sentences = [sentence.text.lower() if self.lower else sentence.text for sentence in razdel.sentenize(text)][:self.max_sentences]\n",
        "                else:\n",
        "                    sentences = record[\"sentences\"]\n",
        "                max_sentences = max(len(sentences), max_sentences)\n",
        "\n",
        "                # номера предложений, которые в нашем саммари\n",
        "                if \"oracle_sentences\" not in record:\n",
        "                    calc_score = lambda x, y: calc_single_score(x, y, self.rouge)\n",
        "                    sentences_indicies = build_oracle_summary_greedy(text, summary, calc_score=calc_score, lower=self.lower, max_sentences=self.max_sentences)[1]\n",
        "                else:\n",
        "                    sentences_indicies = record[\"oracle_sentences\"]\n",
        "\n",
        "                # inputs - индексы слов в предложении\n",
        "                inputs = [bpe_processor.encode(sentence)[:self.max_sentence_length] for sentence in sentences]\n",
        "                max_sentence_length = max(max_sentence_length, max([len(tokens) for tokens in inputs]))\n",
        "\n",
        "                # получение метки класса предложения\n",
        "                outputs = [int(i in sentences_indicies) for i in range(len(sentences))]\n",
        "                batch_inputs.append(inputs)\n",
        "                batch_outputs.append(outputs)\n",
        "\n",
        "            tensor_inputs = torch.zeros((self.batch_size, max_sentences, max_sentence_length), dtype=torch.long, device=self.device)\n",
        "            tensor_outputs = torch.zeros((self.batch_size, max_sentences), dtype=torch.float32, device=self.device)\n",
        "            tensor_outputs += 2\n",
        "\n",
        "            for i, inputs in enumerate(batch_inputs):\n",
        "                for j, sentence_tokens in enumerate(inputs):\n",
        "                    tensor_inputs[i][j][:len(sentence_tokens)] = torch.tensor(sentence_tokens, dtype=torch.int64)\n",
        "\n",
        "            for i, outputs in enumerate(batch_outputs):\n",
        "                tensor_outputs[i][:len(outputs)] = torch.LongTensor(outputs)\n",
        "\n",
        "            tensor_outputs = tensor_outputs.long()\n",
        "            yield {\n",
        "                'inputs': tensor_inputs,\n",
        "                'outputs': tensor_outputs,\n",
        "                'records': batch_records\n",
        "            }"
      ],
      "execution_count": null,
      "outputs": []
    },
    {
      "cell_type": "code",
      "metadata": {
        "id": "5ug9MIObdi03"
      },
      "source": [
        "train_iterator = BatchIterator(ext_train_records, vocabulary, 32, bpe_processor, device=device)\n",
        "val_iterator = BatchIterator(ext_val_records, vocabulary, 32, bpe_processor, device=device)\n",
        "test_iterator = BatchIterator(ext_test_records, vocabulary, 32, bpe_processor, device=device)"
      ],
      "execution_count": null,
      "outputs": []
    },
    {
      "cell_type": "markdown",
      "metadata": {
        "id": "yPlJMg0_dQM-"
      },
      "source": [
        "## Extractor -  SummaRuNNer\n",
        " https://arxiv.org/pdf/1611.04230.pdf\n"
      ]
    },
    {
      "cell_type": "code",
      "metadata": {
        "id": "iW7iS76KeEdO"
      },
      "source": [
        "import numpy as np\n",
        "\n",
        "import torch\n",
        "import torch.nn as nn\n",
        "import torch.nn.functional as F\n",
        "import torch.optim as optim\n",
        "from torch.autograd import Variable\n",
        "\n",
        "from torch.nn.utils.rnn import pack_padded_sequence as pack\n",
        "from torch.nn.utils.rnn import pad_packed_sequence as unpack\n",
        "\n",
        "class SentenceEncoderRNN(nn.Module):\n",
        "    def __init__(self, input_size, embedding_dim, hidden_size, n_layers=3, dropout=0.3, bidirectional=True):\n",
        "        super().__init__()\n",
        "\n",
        "        num_directions = 2 if bidirectional else 1\n",
        "        assert hidden_size % num_directions == 0\n",
        "        hidden_size = hidden_size // num_directions\n",
        "\n",
        "        self.embedding_dim = embedding_dim\n",
        "        self.input_size = input_size\n",
        "        self.hidden_size = hidden_size\n",
        "        self.n_layers = n_layers\n",
        "        self.dropout = dropout\n",
        "        self.bidirectional = bidirectional\n",
        "\n",
        "        self.embedding_layer = nn.Embedding(input_size, embedding_dim)\n",
        "        self.rnn_layer = nn.LSTM(embedding_dim, hidden_size, n_layers, dropout=dropout, bidirectional=bidirectional, batch_first=True)\n",
        "        self.dropout_layer = nn.Dropout(dropout)\n",
        "\n",
        "    def forward(self, inputs, hidden=None):\n",
        "        embedded = self.dropout_layer(self.embedding_layer(inputs))\n",
        "        outputs, _ = self.rnn_layer(embedded, hidden)\n",
        "        sentences_embeddings = torch.mean(outputs, 1)\n",
        "        # [batch_size, hidden_size]\n",
        "        return sentences_embeddings\n",
        "\n",
        "class SentenceTaggerRNN(nn.Module):\n",
        "    def __init__(self,\n",
        "                 vocabulary_size,\n",
        "                 use_content=True,\n",
        "                 use_salience=True,\n",
        "                 use_novelty=False,\n",
        "                 token_embedding_dim=128,\n",
        "                 sentence_encoder_hidden_size=256,\n",
        "                 hidden_size=256,\n",
        "                 bidirectional=True,\n",
        "                 sentence_encoder_n_layers=2,\n",
        "                 sentence_encoder_dropout=0.3,\n",
        "                 sentence_encoder_bidirectional=True,\n",
        "                 n_layers=2,\n",
        "                 dropout=0.3):\n",
        "\n",
        "        super().__init__()\n",
        "\n",
        "        num_directions = 2 if bidirectional else 1\n",
        "        assert hidden_size % num_directions == 0\n",
        "        hidden_size = hidden_size // num_directions\n",
        "\n",
        "        self.hidden_size = hidden_size\n",
        "        self.n_layers = n_layers\n",
        "        self.dropout = dropout\n",
        "        self.bidirectional = bidirectional\n",
        "        self.num_directions = num_directions\n",
        "\n",
        "        self.sentence_encoder = SentenceEncoderRNN(vocabulary_size, token_embedding_dim,\n",
        "                                                   sentence_encoder_hidden_size, sentence_encoder_n_layers,\n",
        "                                                   sentence_encoder_dropout, sentence_encoder_bidirectional)\n",
        "\n",
        "        self.rnn_layer = nn.LSTM(sentence_encoder_hidden_size, hidden_size, n_layers, dropout=dropout,\n",
        "                           bidirectional=bidirectional, batch_first=True)\n",
        "\n",
        "        self.dropout_layer = nn.Dropout(dropout)\n",
        "        self.content_linear_layer = nn.Linear(hidden_size * 2, 1)\n",
        "        self.document_linear_layer = nn.Linear(hidden_size * 2, hidden_size * 2)\n",
        "        self.salience_linear_layer = nn.Linear(hidden_size * 2, hidden_size * 2)\n",
        "        self.novelty_linear_layer =  nn.Linear(hidden_size * 2, hidden_size * 2)\n",
        "        self.tanh_layer = nn.Tanh()\n",
        "\n",
        "        self.use_content = use_content\n",
        "        self.use_salience = use_salience\n",
        "        self.use_novelty = use_novelty\n",
        "\n",
        "    def forward(self, inputs, hidden=None):\n",
        "        # parameters of the probability\n",
        "        content = 0\n",
        "        salience = 0\n",
        "        novelty = 0\n",
        "\n",
        "        # [batch_size, seq num, seq_len]\n",
        "        batch_size = inputs.size(0)\n",
        "        sentences_count = inputs.size(1)\n",
        "        tokens_count = inputs.size(2)\n",
        "        inputs = inputs.reshape(-1, tokens_count)\n",
        "        # [batch_size * seq num, seq_len]\n",
        "\n",
        "        embedded_sentences = self.sentence_encoder(inputs)\n",
        "        embedded_sentences = self.dropout_layer(embedded_sentences.reshape(batch_size, sentences_count, -1))\n",
        "        # [batch_size *  seq num, seq_len, hidden_size] -> [batch_size, seq num, hidden_size]\n",
        "\n",
        "        outputs, _ = self.rnn_layer(embedded_sentences, hidden)\n",
        "        # [batch_size, seq num, hidden_size]\n",
        "\n",
        "        document_embedding = self.tanh_layer(self.document_linear_layer(torch.mean(outputs, 1)))\n",
        "        # [batch_size, hidden_size]\n",
        "\n",
        "        # W * h^T\n",
        "        if self.use_content:\n",
        "            content = self.content_linear_layer(outputs).squeeze(2) # 1-representation\n",
        "        # [batch_size, seq num]\n",
        "\n",
        "        # h^T * W * d\n",
        "        if self.use_salience:\n",
        "            salience = torch.bmm(outputs, self.salience_linear_layer(document_embedding).unsqueeze(2)).squeeze(2) # 2-representation\n",
        "        # [batch_size, seq num, hidden_size] * [batch_size, hidden_size, 1] = [batch_size, seq num, ]\n",
        "\n",
        "        if self.use_novelty:\n",
        "            # at every step add novelty to prediction of the sentence\n",
        "            predictions = content + salience\n",
        "            summary_representation = torch.zeros([batch_size, self.hidden_size*self.num_directions]).to(device)\n",
        "            novelty = torch.zeros([batch_size, sentences_count]).to(device)\n",
        "\n",
        "            for sentence_num in range(sentences_count):\n",
        "                sentence_num_state = outputs[:, sentence_num, :]\n",
        "                novel = - torch.bmm(sentence_num_state.unsqueeze(1), self.novelty_linear_layer(self.tanh_layer(summary_representation)).unsqueeze(2)).squeeze(2)\n",
        "                novelty_to_predictions = predictions[:, sentence_num].unsqueeze(1) + novel\n",
        "                probability = nn.Sigmoid()(novelty_to_predictions)\n",
        "                summary_representation += torch.bmm(probability.unsqueeze(2), sentence_num_state.unsqueeze(1)).squeeze(1)\n",
        "\n",
        "                novelty[:, sentence_num] = novel.squeeze(1)\n",
        "\n",
        "\n",
        "        return content + salience + novelty"
      ],
      "execution_count": null,
      "outputs": []
    },
    {
      "cell_type": "code",
      "metadata": {
        "id": "-QC1ZmuQfB7f",
        "colab": {
          "base_uri": "https://localhost:8080/"
        },
        "outputId": "06e66987-b64c-4b7f-e3b0-99c88473c9f9"
      },
      "source": [
        "vocab_size = len(vocabulary)\n",
        "model_1 = SentenceTaggerRNN(vocab_size).to(device)\n",
        "\n",
        "params_count = np.sum([p.numel() for p in model_1.parameters() if p.requires_grad])\n",
        "print(\"Trainable params: {}\".format(params_count))"
      ],
      "execution_count": null,
      "outputs": [
        {
          "output_type": "stream",
          "name": "stdout",
          "text": [
            "Trainable params: 2927617\n"
          ]
        }
      ]
    },
    {
      "cell_type": "code",
      "metadata": {
        "id": "f9Q3aFHhgsB4",
        "colab": {
          "base_uri": "https://localhost:8080/"
        },
        "outputId": "b5ed3a38-e8d9-477c-fc63-5d42176365b6"
      },
      "source": [
        "for name, param in model_1.named_parameters():\n",
        "    print(f\"{name}: {param.numel()}\")"
      ],
      "execution_count": null,
      "outputs": [
        {
          "output_type": "stream",
          "name": "stdout",
          "text": [
            "sentence_encoder.embedding_layer.weight: 1280000\n",
            "sentence_encoder.rnn_layer.weight_ih_l0: 65536\n",
            "sentence_encoder.rnn_layer.weight_hh_l0: 65536\n",
            "sentence_encoder.rnn_layer.bias_ih_l0: 512\n",
            "sentence_encoder.rnn_layer.bias_hh_l0: 512\n",
            "sentence_encoder.rnn_layer.weight_ih_l0_reverse: 65536\n",
            "sentence_encoder.rnn_layer.weight_hh_l0_reverse: 65536\n",
            "sentence_encoder.rnn_layer.bias_ih_l0_reverse: 512\n",
            "sentence_encoder.rnn_layer.bias_hh_l0_reverse: 512\n",
            "sentence_encoder.rnn_layer.weight_ih_l1: 131072\n",
            "sentence_encoder.rnn_layer.weight_hh_l1: 65536\n",
            "sentence_encoder.rnn_layer.bias_ih_l1: 512\n",
            "sentence_encoder.rnn_layer.bias_hh_l1: 512\n",
            "sentence_encoder.rnn_layer.weight_ih_l1_reverse: 131072\n",
            "sentence_encoder.rnn_layer.weight_hh_l1_reverse: 65536\n",
            "sentence_encoder.rnn_layer.bias_ih_l1_reverse: 512\n",
            "sentence_encoder.rnn_layer.bias_hh_l1_reverse: 512\n",
            "rnn_layer.weight_ih_l0: 131072\n",
            "rnn_layer.weight_hh_l0: 65536\n",
            "rnn_layer.bias_ih_l0: 512\n",
            "rnn_layer.bias_hh_l0: 512\n",
            "rnn_layer.weight_ih_l0_reverse: 131072\n",
            "rnn_layer.weight_hh_l0_reverse: 65536\n",
            "rnn_layer.bias_ih_l0_reverse: 512\n",
            "rnn_layer.bias_hh_l0_reverse: 512\n",
            "rnn_layer.weight_ih_l1: 131072\n",
            "rnn_layer.weight_hh_l1: 65536\n",
            "rnn_layer.bias_ih_l1: 512\n",
            "rnn_layer.bias_hh_l1: 512\n",
            "rnn_layer.weight_ih_l1_reverse: 131072\n",
            "rnn_layer.weight_hh_l1_reverse: 65536\n",
            "rnn_layer.bias_ih_l1_reverse: 512\n",
            "rnn_layer.bias_hh_l1_reverse: 512\n",
            "content_linear_layer.weight: 256\n",
            "content_linear_layer.bias: 1\n",
            "document_linear_layer.weight: 65536\n",
            "document_linear_layer.bias: 256\n",
            "salience_linear_layer.weight: 65536\n",
            "salience_linear_layer.bias: 256\n",
            "novelty_linear_layer.weight: 65536\n",
            "novelty_linear_layer.bias: 256\n"
          ]
        }
      ]
    },
    {
      "cell_type": "code",
      "metadata": {
        "id": "05s8UWh81cjG",
        "colab": {
          "base_uri": "https://localhost:8080/"
        },
        "outputId": "fbefa9c3-fd57-4f75-94b8-391d595f5783"
      },
      "source": [
        "# !gdown https://drive.google.com/uc?id=1MiS_iczALcyF7zGDPY6niyeD82P0_PBH -O train_model.py\n",
        "# !gdown https://drive.google.com/uc?id=1RwFqKfXLZp_P3FoGnLAcorQWNwW9-RtO -O train_model.py\n",
        "!gdown https://drive.google.com/uc?id=1mso-R81QS-DdWvNm2Z3bsMtEDck4pUDN -O train_model.py\n",
        "import train_model\n",
        "import imp\n",
        "imp.reload(train_model)\n",
        "from train_model import train_with_logs"
      ],
      "execution_count": null,
      "outputs": [
        {
          "output_type": "stream",
          "name": "stdout",
          "text": [
            "Downloading...\n",
            "From: https://drive.google.com/uc?id=1mso-R81QS-DdWvNm2Z3bsMtEDck4pUDN\n",
            "To: /content/train_model.py\n",
            "\r  0% 0.00/4.87k [00:00<?, ?B/s]\r100% 4.87k/4.87k [00:00<00:00, 4.34MB/s]\n"
          ]
        }
      ]
    },
    {
      "cell_type": "code",
      "metadata": {
        "id": "rwrhG4v71yts"
      },
      "source": [
        "N_EPOCHS = 3\n",
        "CLIP = 1\n",
        "\n",
        "def train(model, use_class_weights, N_EPOCHS, CLIP, lr=1e-3):\n",
        "    optimizer = optim.Adam(model.parameters(), lr)\n",
        "    if use_class_weights:\n",
        "        outp_one = []\n",
        "        outp_zero = []\n",
        "        lenght_sum = 0\n",
        "        for iter in train_iterator:\n",
        "          outp_one += torch.masked_select(iter['outputs'], iter['outputs'] == 1).cpu().numpy().tolist()\n",
        "          outp_zero += torch.masked_select(iter['outputs'], iter['outputs'] == 0).cpu().numpy().tolist()\n",
        "\n",
        "        lenght_sum += len(outp_one) + len(outp_zero)\n",
        "\n",
        "        weights = torch.Tensor([len(outp_one)/lenght_sum, len(outp_zero)/lenght_sum])\n",
        "        criterion = nn.CrossEntropyLoss(weight=weights, ignore_index=2)\n",
        "        train_with_logs(model, train_iterator, val_iterator, optimizer, criterion, N_EPOCHS, CLIP)\n",
        "    else:\n",
        "        criterion = nn.CrossEntropyLoss(ignore_index=2)\n",
        "        train_with_logs(model, train_iterator, val_iterator, optimizer, criterion, N_EPOCHS, CLIP)"
      ],
      "execution_count": null,
      "outputs": []
    },
    {
      "cell_type": "markdown",
      "metadata": {
        "id": "ubzii432aci2"
      },
      "source": [
        "## Inference"
      ]
    },
    {
      "cell_type": "code",
      "metadata": {
        "id": "6OzCz90Maci3"
      },
      "source": [
        "from train_model import punct_detokenize, postprocess\n",
        "\n",
        "def inference_summarunner(model, iterator, top_k=3, threshold=0):\n",
        "\n",
        "    references = []\n",
        "    predictions = []\n",
        "\n",
        "    model.eval()\n",
        "    for batch in test_iterator:\n",
        "\n",
        "        logits = model(batch['inputs'])\n",
        "        if top_k:\n",
        "          sum_in = torch.argsort(logits, dim=1)[:, -top_k:]\n",
        "\n",
        "        for i in range(len(batch['outputs'])):\n",
        "\n",
        "            summary = batch['records'][i]['summary'].lower()\n",
        "            if top_k:\n",
        "              pred_summary = ' '.join([batch['records'][i]['sentences'][ind] for ind in sum_in.sort(dim=1)[0][i]])\n",
        "            else:\n",
        "              sum_in = torch.nonzero((logits[i]>threshold).int(), as_tuple=True)[0]\n",
        "              sents = batch['records'][i]['sentences']\n",
        "              pred_summary = ' '.join([sents[ind] for ind in sum_in if ind < len(sents)])\n",
        "\n",
        "            summary, pred_summary = postprocess(summary, pred_summary)\n",
        "\n",
        "            references.append(summary)\n",
        "            predictions.append(pred_summary)\n",
        "\n",
        "    calc_scores(references, predictions)"
      ],
      "execution_count": null,
      "outputs": []
    },
    {
      "cell_type": "markdown",
      "metadata": {
        "id": "h4OwmUmFUP9N"
      },
      "source": [
        "## Обучение без весов в CrossEntropyLoss и без Novelty"
      ]
    },
    {
      "cell_type": "code",
      "metadata": {
        "colab": {
          "base_uri": "https://localhost:8080/",
          "height": 580
        },
        "id": "pggaOJBmUQbT",
        "outputId": "c35faf82-26e8-4506-f657-bb477f28e5ad"
      },
      "source": [
        "train(model_1, False, N_EPOCHS, CLIP)"
      ],
      "execution_count": null,
      "outputs": [
        {
          "output_type": "display_data",
          "data": {
            "image/png": "[encoded data removed]",
            "text/plain": [
              "<Figure size 864x576 with 2 Axes>"
            ]
          },
          "metadata": {
            "needs_background": "light"
          }
        },
        {
          "output_type": "stream",
          "name": "stdout",
          "text": [
            "Epoch: 03 | Time: 5m 52s\n",
            "\tTrain Loss: 0.224 | Train PPL:   1.251\n",
            "\t Val. Loss: 0.273 |  Val. PPL:   1.314\n"
          ]
        }
      ]
    },
    {
      "cell_type": "markdown",
      "metadata": {
        "id": "PLacXzDiZ0o8"
      },
      "source": [
        "### Inference с ранжированием logits без весов в CrossEntropyLoss и без Novelty"
      ]
    },
    {
      "cell_type": "code",
      "metadata": {
        "colab": {
          "base_uri": "https://localhost:8080/"
        },
        "id": "P2GSIjUVaY4n",
        "outputId": "6e56f5f0-e1c4-4920-bb44-7531959a237d"
      },
      "source": [
        "model_1.load_state_dict(torch.load('best-val-model.pt'))\n",
        "inference_summarunner(model_1, test_iterator, 3)"
      ],
      "execution_count": null,
      "outputs": [
        {
          "output_type": "stream",
          "name": "stdout",
          "text": [
            "Count: 256\n",
            "Ref: в крыму полет американского беспилотника над границами полуострова назвали наглость . там также посоветовали узнавать всю необходимую информацию о регионе через официальную делегацию , которую можно было бы послать в крым , согласовав детали с российским внешнеполитическим ведомством . беспилотный летательный аппарат ввс сша пролетел в этом месте уже как минимум во второй раз за этот месяц .\n",
            "Hyp: в крыму пролет американского беспилотника над полуостровом назвали наглостью . такое мнение выразил сопредседатель ассамблеи славянских народов крыма роман чегринец . « подобные полеты — это наглость , которая в очередной раз показывает всему миру двуличность и лицемерие внешней политики сша » , — сказал чегринец в комментарии риа « новости » .\n",
            "BLEU:  0.44754274522966964\n",
            "ROUGE:  {'rouge-1': {'f': 0.3157982758597188, 'p': 0.3031501649619639, 'r': 0.3488776502268287}, 'rouge-2': {'f': 0.14239895257305368, 'p': 0.1346895643218683, 'r': 0.16187862317861018}, 'rouge-l': {'f': 0.27250862520212027, 'p': 0.27504254131542966, 'r': 0.3161879310846975}}\n"
          ]
        }
      ]
    },
    {
      "cell_type": "markdown",
      "metadata": {
        "id": "eG2yX37oarmo"
      },
      "source": [
        "### Inference с logits>0 без весов в CrossEntropyLoss и без Novelty"
      ]
    },
    {
      "cell_type": "code",
      "metadata": {
        "colab": {
          "base_uri": "https://localhost:8080/"
        },
        "id": "NFSwCzwFarmp",
        "outputId": "8cc10204-bbfc-4dcb-9c0c-269813bc55e0"
      },
      "source": [
        "model_1.load_state_dict(torch.load('best-val-model.pt'))\n",
        "inference_summarunner(model_1, test_iterator, 0)"
      ],
      "execution_count": null,
      "outputs": [
        {
          "output_type": "stream",
          "name": "stdout",
          "text": [
            "Count: 256\n",
            "Ref: украина может остаться без финансовой помощи евросоюза , если продолжит поддерживать позицию сша по газопроводу « северный поток — 2 » . об этом заявили в немецком бундестаге . если будут введены ограничения против « потока » , то германия может ввести ответные санкции .\n",
            "Hyp: украине указали на ее место в споре по российскому газопроводу « северный поток — 2 » . об этом заявил риа « новости » глава комиссии по экономике и энергетике бундестага фрг клаус эрнст . действия украины по « сп-2 » парламентарий назвал неприемлемыми . германия может принять ответные меры , если сша введут санкции против « северного потока — 2 » , добавил эрнст . например , повысить пошлины на американский газ . поводом для такого выступления стало заявление заместителя главы мид украины елены зеркаль , заявившей , что киев хочет использовать американские санкции против трубопровода « сп-2 » как инструмент давления при переговорах по транзиту российского газа . санкции сша могут препятствовать запуску газопровода , добавила украинский чиновник . ранее , 3 декабря , сша заявляли , что американские дипломаты добились замедления строительства « северного потока — 2 » . замгоссекретаря по политическим делам сша дэвид хейл рассказал , что штаты якобы используют только дипломатические средства для торможения возведения газопровода . также он признался , что полностью остановить процесс строительства « северного потока — 2 » пока не получается . « на данном этапе мы замедлили его , но он не остановлен » , — отметил хейл . если строительство не удастся остановить , то вашингтон рассмотрит введение экономических санкций , пригрозил дипломат . меры воздействия сша против российского газопровода могут быть направлены против участвующих в строительстве компаний , сообщало 2 декабря издание bild со ссылкой на свои источники . необходимые для введения санкций поправки в оборонный бюджет могут быть приняты до 25 декабря . эту информацию подтверждал глава сенатского комитета по иностранным делам джим риш на полях форума по безопасности в галифаксе ( канада ) . под санкции вполне может попасть швейцарская строительная компания allseas group и несколько немецких предприятий . о том , что конгресс сша планирует санкции в отношении « сп-2 » , сообщало в ноябре defense news со ссылкой на того же джима риша . необходимые поправки могут быть внесены в законопроект « о национальной обороне на 2020 год » . « это им дорого обойдется . я думаю , что если эти санкции будут введены , то [ компании ] закроются , и россиянам придется искать другой способ [ завершить строительство газопровода ] , если они смогут это сделать » , — пугал риш . по его словам , санкции станут серьезным стимулом отказаться от прокладывания « северного потока — 2 » . впрочем , на принятие антироссийских ограничений у американцев времени уже нет , сообщали немецкие сми . газопровод в скором времени может быть достроен , он уже готов на 87 % . « если никто уже не будет строить , то и наказать никого не сможем » , — сказал собеседник bild . напомним , газопровод « северный поток — 2 » — это две нитки трубы длиной более 1,2 тыс . км . мощность трубопровода , уложенного по дну балтийского моря в германию , оценивается в 55 млрд куб . в год . стоимость строительства газопровода — около € 9,5 млрд . половина из этих средств приходится на финансирование со стороны европейских компаний omv , engie , shell , uniper и wintershall .\n",
            "BLEU:  0.08099386998004397\n",
            "ROUGE:  {'rouge-1': {'f': 0.15260511965619142, 'p': 0.08698731268763084, 'r': 0.6587517718468177}, 'rouge-2': {'f': 0.05422697452564691, 'p': 0.029910124837270843, 'r': 0.31031644088901816}, 'rouge-l': {'f': 0.08202876539588586, 'p': 0.08060545786376666, 'r': 0.6118568734568615}}\n"
          ]
        }
      ]
    },
    {
      "cell_type": "markdown",
      "metadata": {
        "id": "I5D7T1dqrmMt"
      },
      "source": [
        "## Обучение без весов в CrossEntropyLoss c Novelty"
      ]
    },
    {
      "cell_type": "code",
      "metadata": {
        "colab": {
          "base_uri": "https://localhost:8080/",
          "height": 580
        },
        "id": "0aaI9Zhlrvyp",
        "outputId": "c8c553c9-1309-49e0-e16f-039480419c15"
      },
      "source": [
        "model_1_Novelty = SentenceTaggerRNN(vocab_size).to(device)\n",
        "\n",
        "params_count = np.sum([p.numel() for p in model_1_Novelty.parameters() if p.requires_grad])\n",
        "\n",
        "train(model_1_Novelty, False, N_EPOCHS, CLIP)"
      ],
      "execution_count": null,
      "outputs": [
        {
          "output_type": "display_data",
          "data": {
            "image/png": "[encoded data removed]",
            "text/plain": [
              "<Figure size 864x576 with 2 Axes>"
            ]
          },
          "metadata": {
            "needs_background": "light"
          }
        },
        {
          "output_type": "stream",
          "name": "stdout",
          "text": [
            "Epoch: 03 | Time: 5m 33s\n",
            "\tTrain Loss: 0.239 | Train PPL:   1.270\n",
            "\t Val. Loss: 0.267 |  Val. PPL:   1.306\n"
          ]
        }
      ]
    },
    {
      "cell_type": "markdown",
      "metadata": {
        "id": "JbValaaetAfS"
      },
      "source": [
        "### Inference с ранжированием logits без весов в CrossEntropyLoss c Novelty"
      ]
    },
    {
      "cell_type": "code",
      "metadata": {
        "colab": {
          "base_uri": "https://localhost:8080/"
        },
        "id": "qTk8r0HjtAfx",
        "outputId": "a41e8d4d-3719-4260-d97b-6c8a1b9d30ae"
      },
      "source": [
        "model_1_Novelty.load_state_dict(torch.load('best-val-model.pt'))\n",
        "inference_summarunner(model_1_Novelty, test_iterator, 3)"
      ],
      "execution_count": null,
      "outputs": [
        {
          "output_type": "stream",
          "name": "stdout",
          "text": [
            "Count: 256\n",
            "Ref: 63-летний мужчина устроил стрельбу в центре калининграда и убил супружескую пару , а также ранил их сына . причем женщина была беременна и , как сообщают очевидцы , звала на помощь , но злоумышленник выстрелил в нее еще раз , добив ее . сам же стрелявший пытался покончить собой и умер в реанимации . предварительной версией конфликта стало место на местном центральном рынке .\n",
            "Hyp: в центре калининграда мужчина открыл стрельбу из охотничьего карабина . он убил двоих , сообщает тасс со ссылкой на источник в правоохранительных органах . « по предварительным данным , мужчина открыл огонь по прохожим из нарезного охотничьего оружия .\n",
            "BLEU:  0.4483358093852308\n",
            "ROUGE:  {'rouge-1': {'f': 0.3173318124753692, 'p': 0.30313415143950345, 'r': 0.3531967563454288}, 'rouge-2': {'f': 0.1427732219026844, 'p': 0.1347593218711489, 'r': 0.16339726182715184}, 'rouge-l': {'f': 0.27154623032757474, 'p': 0.2739258120398611, 'r': 0.3186041265424391}}\n"
          ]
        }
      ]
    },
    {
      "cell_type": "markdown",
      "metadata": {
        "id": "loBIfpOttAfy"
      },
      "source": [
        "### Inference с logits>0 без весов в CrossEntropyLoss c Novelty"
      ]
    },
    {
      "cell_type": "code",
      "metadata": {
        "colab": {
          "base_uri": "https://localhost:8080/"
        },
        "id": "K6t7VPlEtAfy",
        "outputId": "c8e86e9b-6b84-436c-a819-57c3acc7f565"
      },
      "source": [
        "model_1_Novelty.load_state_dict(torch.load('best-val-model.pt'))\n",
        "inference_summarunner(model_1_Novelty, test_iterator, 0)"
      ],
      "execution_count": null,
      "outputs": [
        {
          "output_type": "stream",
          "name": "stdout",
          "text": [
            "Count: 256\n",
            "Ref: семь жителей самары , в том числе трое детей , пострадали в результате хлопка газа в частном доме , сообщает региональный главк мчс . по предварительным данным , вечером 3 марта в данном помещении праздновался день рождения — во время торжества внезапно взорвался газовый котел , из-за чего произошло обрушение крыши и стен . сотрудники экстренных служб доставали людей из-под завалов . нескольких пострадавших уже госпитализировали .\n",
            "Hyp: семь человек , в том числе трое детей , пострадали в результате взрыва газа в жилом доме в самаре , сообщает тасс со ссылкой на пресс-службу регионального главка мчс . по предварительным данным , в этом частном двухэтажном доме на улице арцыбушевской проживали несколько семей с детьми , приехавших в самару из республик средней азии . по предварительным данным , в этом частном двухэтажном доме на улице арцыбушевской проживали несколько семей с детьми , приехавших в самару из республик средней азии . в тот день они праздновали день рождения , сообщает местный портал 64 . ru . однако в разгар праздника там произошел взрыв газового котла — из-за этого здание частично обрушилось . в сми распространилось видео , на котором видно , что стены упали и на соседний дом . в сми распространилось видео , на котором видно , что стены упали и на соседний дом . при этом региональный главк мчс утверждает , что хлопок газа произошел без последующего возгорания . всех пострадавших извлекли из-под завалов — помимо троих детей , которым от четырех месяцев до восьми лет , травмы получили три женщины и один мужчина , пишет газета « мк » . всех пострадавших извлекли из-под завалов — помимо троих детей , которым от четырех месяцев до восьми лет , травмы получили три женщины и один мужчина , пишет газета « мк » . в свою очередь есть информация , что с места обрушения эвакуированы восемь человек — из них четверо несовершеннолетних , сообщает telegram-канал mash со ссылкой на неназванный источник . в свою очередь есть информация , что с места обрушения эвакуированы восемь человек — из них четверо несовершеннолетних , сообщает telegram-канал mash со ссылкой на неназванный источник . при этом двое пострадавших уже госпитализированы . при этом двое пострадавших уже госпитализированы . сейчас на месте работают оперативные службы . на ролике видно , что около разрушенного дома стоят несколько пожарных машин , скорая помощь и сотрудники полиции . на месте происшествия также находятся глава города елена лапушкина и глава ленинского района елена бондаренко , сообщили в администрации городского округа самары . позже портал 64 . ru написал , что взрыва газа вовсе не было : якобы обрушилась стена , которая уже была аварийной . позже портал 64 . ru написал , что взрыва газа вовсе не было : якобы обрушилась стена , которая уже была аварийной . более того , по предварительным данным , дом давно был расселен из-за аварийного состояния , однако люди там продолжали жить . еще один взрыв бытового газа произошел 7 декабря 2019 года в тюмени . тогда в результате чп пострадали четыре человека , один погиб . по данным регионального главка мчс , трагедия случилась в одной из квартир четырехэтажного дома , где по словам соседей , проживали инвалиды-колясочники , передавал портал 72 . ru . очевидцы утверждают , что взрыв произошел в момент , когда газовщики пытались ликвидировать проблему — хозяева квартиры вызвали их , когда почувствовали запах газа . очевидцы утверждают , что взрыв произошел в момент , когда газовщики пытались ликвидировать проблему — хозяева квартиры вызвали их , когда почувствовали запах газа . по данным регионального главка мчс , площадь горения составила восемь квадратных метров . свидетели трагедии рассказали , что взрывная волна выбила стекла в доме в момент чп — они отлетели от здания на несколько метров . также была повреждена дверь . стекло вылетело даже в подъезде . стекло вылетело даже в подъезде . кроме того , хлопок был настолько мощный , что жители противоположного дома почувствовали тряску в своих квартирах . кроме того , хлопок был настолько мощный , что жители противоположного дома почувствовали тряску в своих квартирах . « услышала хлопок , почувствовала тряску . выглянув в окно , увидела , как летели стекла и панели » , – рассказала соседка пострадавших . выглянув в окно , увидела , как летели стекла и панели » , – рассказала соседка пострадавших . одну женщину , оказавшуюся в пожаре , вытащили очевидцы взрыва — она передвигается на коляске . ее супруг , по словам соседей , был в шоковом состоянии весь в крови , но смог выбраться на улицу самостоятельно . ее супруг , по словам соседей , был в шоковом состоянии весь в крови , но смог выбраться на улицу самостоятельно . остальным также помогали выбираться соседи , рабочие с ближайшей стройки и охранники , писал 72 . ru . погибшим в результате взрыва оказался один из газовщиков . двоих пострадавших увезли в реанимацию ожогового отделения окб № 1 — врачи оценивали их состояние как тяжелое . двоих пострадавших увезли в реанимацию ожогового отделения окб № 1 — врачи оценивали их состояние как тяжелое .\n",
            "BLEU:  0.06344649883923102\n",
            "ROUGE:  {'rouge-1': {'f': 0.151339603323659, 'p': 0.08603938488835995, 'r': 0.6652468154588018}, 'rouge-2': {'f': 0.053291209295132105, 'p': 0.029287234377414876, 'r': 0.3158530196439502}, 'rouge-l': {'f': 0.08123316163513693, 'p': 0.07987585453852793, 'r': 0.6186963941659857}}\n"
          ]
        }
      ]
    },
    {
      "cell_type": "markdown",
      "metadata": {
        "id": "Cb1YR0s3UO0h"
      },
      "source": [
        "## Обучение с весами в CrossEntropyLoss без Novelty"
      ]
    },
    {
      "cell_type": "code",
      "metadata": {
        "colab": {
          "base_uri": "https://localhost:8080/",
          "height": 580
        },
        "id": "UsXPYXPcULsZ",
        "outputId": "880d1e79-248c-4ca4-b514-e71b2cc8c245"
      },
      "source": [
        "model_w = SentenceTaggerRNN(vocab_size).to(device)\n",
        "\n",
        "params_count = np.sum([p.numel() for p in model_w.parameters() if p.requires_grad])\n",
        "train(model_w, True, N_EPOCHS, CLIP)"
      ],
      "execution_count": null,
      "outputs": [
        {
          "output_type": "display_data",
          "data": {
            "image/png": "[encoded data removed]",
            "text/plain": [
              "<Figure size 864x576 with 2 Axes>"
            ]
          },
          "metadata": {
            "needs_background": "light"
          }
        },
        {
          "output_type": "stream",
          "name": "stdout",
          "text": [
            "Epoch: 03 | Time: 5m 32s\n",
            "\tTrain Loss: 0.601 | Train PPL:   1.825\n",
            "\t Val. Loss: 0.589 |  Val. PPL:   1.802\n"
          ]
        }
      ]
    },
    {
      "cell_type": "markdown",
      "metadata": {
        "id": "etaUnZcxxyzo"
      },
      "source": [
        "### Inference с ранжированием logits с весами в CrossEntropyLoss без Novelty"
      ]
    },
    {
      "cell_type": "code",
      "metadata": {
        "colab": {
          "base_uri": "https://localhost:8080/"
        },
        "id": "OJcj8pRxxy0K",
        "outputId": "4aca353d-27c5-413b-d5de-c1cff14bf2aa"
      },
      "source": [
        "model_w.load_state_dict(torch.load('best-val-model.pt'))\n",
        "inference_summarunner(model_w, test_iterator, 3)"
      ],
      "execution_count": null,
      "outputs": [
        {
          "output_type": "stream",
          "name": "stdout",
          "text": [
            "Count: 256\n",
            "Ref: « бавария » все-таки уволила хорватского специалиста нико ковача , под руководством которого выиграла бундеслигу в прошлом сезоне . теперь , по информации прессы , в мюнхенском клубе выбирают нового главного тренера между жозе моуринью и арсеном венгером .\n",
            "Hyp: нико ковач пришел в « баварию » в качестве главного тренера перед сезоном-2018/19 . в первый же год под его руководством клуб оформил дубль на внутренней арене в германии , выиграв чемпионат страны и кубок германии , где в финале со счетом 3 : 0 был разгромлен занявший в бундеслиге третье место « рб лейпциг » . и дело здесь было далеко не только в вылете в 1/8 финала лиги чемпионов , когда в ответном матче мюнхенцы были буквально сметены английским « ливерпулем » ( 3 : 1 ) , в итоге завоевавшим главный клубный трофей европы , хотя , конечно , окончание борьбы на столь ранней стадии не может положительно влиять на перспективы наставника в таком клубе .\n",
            "BLEU:  0.42426085115795986\n",
            "ROUGE:  {'rouge-1': {'f': 0.310885926503843, 'p': 0.2884725756983973, 'r': 0.3565149566331911}, 'rouge-2': {'f': 0.13790001384824524, 'p': 0.1256395792324897, 'r': 0.1632177593421589}, 'rouge-l': {'f': 0.26468599590119835, 'p': 0.2601054506811716, 'r': 0.3207218340263176}}\n"
          ]
        }
      ]
    },
    {
      "cell_type": "markdown",
      "metadata": {
        "id": "POaAQpq0xy0M"
      },
      "source": [
        "### Inference с logits>0 с в CrossEntropyLoss без Novelty"
      ]
    },
    {
      "cell_type": "code",
      "metadata": {
        "colab": {
          "base_uri": "https://localhost:8080/"
        },
        "id": "5ejuWpKfxy0N",
        "outputId": "025ac63d-684d-4391-f4a8-5de33e3f23b8"
      },
      "source": [
        "model_w.load_state_dict(torch.load('best-val-model.pt'))\n",
        "inference_summarunner(model_w, test_iterator, 0)"
      ],
      "execution_count": null,
      "outputs": [
        {
          "output_type": "stream",
          "name": "stdout",
          "text": [
            "Count: 256\n",
            "Ref: американские военные развернули военный лагерь seadragon вблизи от побережья аляски . спустя пять дней после этого над ним пролетели два дальних противолодочных самолета россии ту-142 . в качестве сопровождения к ним были приставлены истребители сша и канады .\n",
            "Hyp: спустя пять дней после создания военного американского лагеря seadragon над ним пролетели два дальних противолодочных самолета россии ту-142 , передает popular mechanics . отмечается , что лагерь был развернут в море бофорта на расстоянии нескольких десятков километров от побережья аляски . издание задается вопросом , как российские самолеты обнаружили американский лагерь . но , пишет popular mechanics , ясно , что россия внимательно следит за действиями сша даже в арктике . инцидент произошел 9 марта , военные самолеты пролетели над ледовым лагерем сша на высоте порядка 760 метров . для их сопровождения в воздух были подняты американские истребители f-22 raptor и канадские cf-18 hornet . отмечается , что российские самолеты находились в небе над морем бофорта в течение четырех часов . сша проводят каждые два года icex — это учение , которое предназначено для того , чтобы проверить , насколько военные готовы действовать в арктических условиях . одна из ключевых особенностей этого мероприятия — участие подводных лодок вмс сша ( и иногда королевского флота ) , которые всплывают , чтобы создать базовый лагерь . военный лагерь seadragon создали 4 марта , его назвали в честь атомной подводной лодки вмс сша seadragon . в военных учениях в этом году принимают участие несколько субмарин разных флотов , отмечает издание . как утверждает командование воздушно-космической обороны северной америки norad , российские самолеты заметили именно над лагерем и торчащими из-подо льда рубками подводных лодок . пролет самолетов засняли на видео . ранее « российская газета » писала о том , что два дальних противолодочных самолета ту-142 вмф россии в плановом порядке пролетали над нейтральными водами чукотского моря и моря бофорта . при этом их сопровождали истребители ввс сша , которые находились в аляске . экипажи соблюдали международные правила использования воздушного пространства . в середине февраля в пентагоне заявили , что опасаются расширения влияния россии и китая в арктике . такое мнение выразил командующий северного командования вооруженных сил сша терренс о ' шонесси . он отметил , что россия продолжала расширять свою военную инфраструктуру в арктике в прошлом году . « в течение года россия удлинила имеющиеся взлетно-посадочные полосы и построила новые на нескольких аэродромах на крайнем севере » , — утверждает военный в своих письменных показаниях перед сенатом , передает риа « новости » . о ' шонессии обеспокоен тем , что россия развертывает на чукотском полуострове свой береговой комплект « бастион » . « при развертывании на северо-востоке россии эта система способна не только контролировать доступ к арктике через берингов пролив , но и наносить удары по наземным целям в некоторых частях аляски практически без предупреждения » , — предупреждает представитель пентагона . он также уверен в том , что китай намерен « эксплуатировать экономический потенциал » региона . российская сторона неоднократно заявляла , что ни на кого не собирается нападать . президент россии владимир путин ранее отмечал , что российскую угрозу придумали те , « кто хочет наживаться на своей роли передового отряда борьбы с россией , получать какие-то бонусы и преференции за это » . помимо этого , москва неоднократно обращала внимание на то , что нато ведет себя активно у российских границ и не перестает наращивать свои военные силы в европе . несмотря на все заявления с американской стороны , россия намерена развивать арктику . так , 12 марта госдума приняла в первом чтении законопроект « о государственной поддержке предпринимательской деятельности в арктической зоне рф » . этот документ был внесен на рассмотрение депутатов правительством . в этой бумаге определен правовой режим , согласно которому должна вестись предпринимательская деятельность в этой зоне .\n",
            "BLEU:  0.08744206562517767\n",
            "ROUGE:  {'rouge-1': {'f': 0.15822548591148725, 'p': 0.09078877939458584, 'r': 0.654489264658788}, 'rouge-2': {'f': 0.05700308616272625, 'p': 0.03162211800247511, 'r': 0.3103447636783023}, 'rouge-l': {'f': 0.0859173964920983, 'p': 0.0842768824386581, 'r': 0.6089702122338979}}\n"
          ]
        }
      ]
    },
    {
      "cell_type": "markdown",
      "metadata": {
        "id": "EyJ0IaBxzDDm"
      },
      "source": [
        "## Обучение с весами в CrossEntropyLoss с Novelty"
      ]
    },
    {
      "cell_type": "code",
      "metadata": {
        "colab": {
          "base_uri": "https://localhost:8080/",
          "height": 580
        },
        "id": "6YKWCKcXzDD9",
        "outputId": "6e215531-8b02-4a2d-eac4-560d32ba55bc"
      },
      "source": [
        "model_w_Novelty = SentenceTaggerRNN(vocab_size).to(device)\n",
        "\n",
        "params_count = np.sum([p.numel() for p in model_w_Novelty.parameters() if p.requires_grad])\n",
        "train(model_w_Novelty, True, N_EPOCHS, CLIP)"
      ],
      "execution_count": null,
      "outputs": [
        {
          "output_type": "display_data",
          "data": {
            "image/png": "[encoded data removed]",
            "text/plain": [
              "<Figure size 864x576 with 2 Axes>"
            ]
          },
          "metadata": {
            "needs_background": "light"
          }
        },
        {
          "output_type": "stream",
          "name": "stdout",
          "text": [
            "Epoch: 03 | Time: 5m 36s\n",
            "\tTrain Loss: 0.602 | Train PPL:   1.826\n",
            "\t Val. Loss: 0.595 |  Val. PPL:   1.814\n"
          ]
        }
      ]
    },
    {
      "cell_type": "markdown",
      "metadata": {
        "id": "NgxDrHAizDD9"
      },
      "source": [
        "### Inference с ранжированием logits с весами в CrossEntropyLoss с Novelty"
      ]
    },
    {
      "cell_type": "code",
      "metadata": {
        "colab": {
          "base_uri": "https://localhost:8080/"
        },
        "id": "TToM6J_szDD-",
        "outputId": "a4864d62-1ae6-4764-a583-e583f8d4ccf6"
      },
      "source": [
        "model_w_Novelty.load_state_dict(torch.load('best-val-model.pt'))\n",
        "inference_summarunner(model_w_Novelty, test_iterator, 3)"
      ],
      "execution_count": null,
      "outputs": [
        {
          "output_type": "stream",
          "name": "stdout",
          "text": [
            "Count: 256\n",
            "Ref: в челябинской области скончалась многодетная мать , которую , предположительно , до смерти избил муж . по данным местных сми , которые ссылаются на родственников погибшей , мужчина проломил жене голову и свернул шею прямо на глазах у несовершеннолетних детей . тем не менее в полиции версию убийства не рассматривают — результаты экспертизы показали , что женщина умерла от инфаркта , в то время как травмы , нанесенные супругом , якобы были не опасны для жизни .\n",
            "Hyp: в челябинской области 26-летняяя многодетная мать из города златоуста скончалась в результате конфликта с мужем . о случившемся сообщила депутат заксобрания области ольга мухометьярова . « жертвой мужа-тирана стала светлана , выпускница колледжа , где много лет назад я была руководителем .\n",
            "BLEU:  0.4196100822469144\n",
            "ROUGE:  {'rouge-1': {'f': 0.3034123945389835, 'p': 0.28168716838307606, 'r': 0.3494749134962305}, 'rouge-2': {'f': 0.13381869948659988, 'p': 0.1223542472290978, 'r': 0.15926872336316478}, 'rouge-l': {'f': 0.25904182442061957, 'p': 0.2556779097190561, 'r': 0.31591384124417243}}\n"
          ]
        }
      ]
    },
    {
      "cell_type": "markdown",
      "metadata": {
        "id": "rVfJZHe9zDD-"
      },
      "source": [
        "### Inference с logits>0 с в CrossEntropyLoss с Novelty"
      ]
    },
    {
      "cell_type": "code",
      "metadata": {
        "colab": {
          "base_uri": "https://localhost:8080/"
        },
        "id": "KXlC-_wGzDD-",
        "outputId": "94112ea2-7bdf-4e6b-a73f-8d659e130e54"
      },
      "source": [
        "model_w_Novelty.load_state_dict(torch.load('best-val-model.pt'))\n",
        "inference_summarunner(model_w_Novelty, test_iterator, 0)"
      ],
      "execution_count": null,
      "outputs": [
        {
          "output_type": "stream",
          "name": "stdout",
          "text": [
            "Count: 256\n",
            "Ref: предсказавший кризис 2008 года экономист джесси коломбо заявил , что миру грозит новая катастрофа . по мнению американского эксперта , сейчас на мировом финансовом рынке есть сразу несколько пузырей , которые могут лопнуть в любой момент . ситуацию усугубляют эпидемия коронавируса и развал сделки опек + .\n",
            "Hyp: как сообщает the independent , новый крах рынков может оказаться гораздо сильнее того , что случился 12 лет назад . по мнению коломбо , сейчас на мировом рынке « надулось сразу несколько пузырей — и они могут лопнуть в любой момент » . кроме того , ситуацию усугубляют пандемия « смертельного китайского коронавируса , выплеснувшегося за пределы азии » и затяжной спад в мировой экономике — он начался « задолго до всего этого » . еще один негативный фактор , по словам экономиста — развал сделки опек + и рухнувшие до $ 30 за баррель цены на нефть . накануне аналитическое кредитное рейтинговое агентство ( акра ) опубликовало на официальном сайте показатели индекса финансового стресса в россии acra fsi , который превысил пороговое значение . на вторник , 10 марта , он достиг отметки в 3,1 пункта . в агентстве уточнили , что с пятницы , 6 марта , индекс увеличился на два пункта . эти данные свидетельствуют о повышении вероятности финансового кризиса . уточняется , что такое происходит не всегда , поскольку превышение отметки было ненадолго зафиксировано в 2016 году . как отметили в акра , такие скачки ранее происходили 12 раз , в том числе в 2008-м , 2009-м и 2014-м годах . в сентябре минувшего года американский миллиардер , основатель инвестиционной компании bridgewater associates рей далио оценил состояние мировой экономики и пришел к выводу , что новый финансовый кризис может наступить в ближайшие несколько лет . в интервью business insider он заявил , что экономический цикл делится на несколько стадий . впоследствии центробанки из-за растущих долгов приступают к ужесточению денежно-кредитной политики . финансист отметил , что затем процентные ставки опускаются практически до нуля и экономика входит в стадию депрессии , что заставляет центробанки скупать активы и применять политику количественного смягчения . « я думаю , что период , в котором мы находимся , очень похож на 30-е годы прошлого века » , — сказал далио , отметив схожесть актуальной экономической и политической обстановки со временами великой депрессии в сша . миллиардер также подчеркнул , что в таких условиях растет разрыв между бедными и богатыми — это , по его мнению , приводит к росту популярности популистской риторики . еще в августе 2018 года главный управляющий банка международных расчетов агустин карстенс предупредил , что актуальные тенденции в мировой экономике могут привести к « идеальному шторму » . пророчества о новом мировом финансовом кризисе звучат уже не первый год . в июле 2018-го аналитики bank of america corp . отмечали , что актуальная динамика на мировом фондовом рынке похожа на ту , что была перед мировым экономическим кризисом в 1997-1998 годах . после анализа рыночных трендов аналитики пришли к выводу , что в скором времени могут повториться события 1998 года , когда в азиатском регионе произошел экономический кризис , а в россии — дефолт .\n",
            "BLEU:  0.10012012179979693\n",
            "ROUGE:  {'rouge-1': {'f': 0.17050051782617318, 'p': 0.0993850133143212, 'r': 0.6341424494879901}, 'rouge-2': {'f': 0.0625444984291189, 'p': 0.03521837341601448, 'r': 0.29917439925856415}, 'rouge-l': {'f': 0.09400897848225245, 'p': 0.091820069170071, 'r': 0.5873066641691997}}\n"
          ]
        }
      ]
    },
    {
      "cell_type": "markdown",
      "metadata": {
        "id": "rZeQp2tP7HZB"
      },
      "source": [
        "## Добавим несколько эпох и threshold (без весов в CrossEntropyLoss с Novelty)"
      ]
    },
    {
      "cell_type": "code",
      "metadata": {
        "colab": {
          "base_uri": "https://localhost:8080/",
          "height": 580
        },
        "id": "7OBaje_D7HZf",
        "outputId": "8193146c-8d43-4979-e248-12fbae67e2af"
      },
      "source": [
        "model = SentenceTaggerRNN(vocab_size).to(device)\n",
        "\n",
        "params_count = np.sum([p.numel() for p in model.parameters() if p.requires_grad])\n",
        "train(model, False, 7, CLIP)"
      ],
      "execution_count": null,
      "outputs": [
        {
          "output_type": "display_data",
          "data": {
            "image/png": "[encoded data removed]",
            "text/plain": [
              "<Figure size 864x576 with 2 Axes>"
            ]
          },
          "metadata": {
            "needs_background": "light"
          }
        },
        {
          "output_type": "stream",
          "name": "stdout",
          "text": [
            "Epoch: 07 | Time: 6m 52s\n",
            "\tTrain Loss: 0.207 | Train PPL:   1.230\n",
            "\t Val. Loss: 0.287 |  Val. PPL:   1.332\n"
          ]
        }
      ]
    },
    {
      "cell_type": "markdown",
      "metadata": {
        "id": "3ZuZ8ML37HZh"
      },
      "source": [
        "### Inference с threshold и большим количеством эпох"
      ]
    },
    {
      "cell_type": "code",
      "metadata": {
        "colab": {
          "base_uri": "https://localhost:8080/"
        },
        "id": "X8XC-3lO7HZh",
        "outputId": "2f2a8a33-505f-419e-a616-69e875a2c645"
      },
      "source": [
        "model.load_state_dict(torch.load('best-val-model.pt'))\n",
        "inference_summarunner(model, test_iterator, 0, threshold=-0.1)"
      ],
      "execution_count": null,
      "outputs": [
        {
          "output_type": "stream",
          "name": "stdout",
          "text": [
            "Count: 256\n",
            "Ref: в брюсселе завершились консультации россии , ес и украины по транзиту газа . перед этим по данному вопросу провели телефонные переговоры президент россии владимир путин и канцлер фрг ангелой меркель . соглашение заканчивается в конце года , и новое далеко от подписания . отказ « газпрома » от прокачки поставляемого в евросоюз газа через украину будет стоить киеву $ 3 млрд ежегодно .\n",
            "Hyp: в брюсселе завершились трехсторонние консультации россии , украины и евросоюза по транзиту газа . главным вопросом в повестке стала судьба договора о транзите российского газа через украину . текущее соглашение истекает в конце нынешнего года .\n",
            "BLEU:  0.4506697957105403\n",
            "ROUGE:  {'rouge-1': {'f': 0.31745103420785425, 'p': 0.30871007881846985, 'r': 0.34934246774590616}, 'rouge-2': {'f': 0.14322248387897013, 'p': 0.1385488070445201, 'r': 0.16148574439346655}, 'rouge-l': {'f': 0.27036123841684534, 'p': 0.27849524662835007, 'r': 0.31450293445884586}}\n"
          ]
        }
      ]
    }
  ]
}